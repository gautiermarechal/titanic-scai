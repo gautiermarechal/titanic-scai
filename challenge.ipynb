{
 "cells": [
  {
   "cell_type": "markdown",
   "metadata": {},
   "source": [
    "# Challenge du titanic\n",
    "\n",
    "Bienvenue au challenge du Titanic dans l'école d'été IA de Sorbonne Université, et du Campus des Métiers et des Qualifications.\n",
    "\n",
    "Le dataset du titanic est un jeu de donnée très populaire afin de s'introduire à la science des données et à l'intelligence artificielle.\n",
    "\n",
    "## Objectif principal\n",
    "\n",
    "L'objectif de ce challenge est de prédire au mieux, basé sur un jeu de donnée existant, si un passager du Titanic a survécu ou non, dépendemment de paramètres spécifiques.\n",
    "\n",
    "Pour effectuer ce challenge, vous n'avez pas besoin de connaitre les mathématiques derrière le processus d'entrainement des modèles.\n",
    "\n",
    "Ici, l'objectif est de vous familiariser avec l'aspect le plus important de l'intelligence artificielle: les données. La plus grande partie du challenge consiste à manipuler les données pour les rendre les plus exploitables possible.\n",
    "\n",
    "## Les étapes:\n",
    "\n",
    "### 1. Définir le problème et les objectifs :\n",
    "\n",
    "- Comprendre clairement le problème que vous essayez de résoudre.\n",
    "- Définir les métriques de succès et les objectifs (par exemple, précision du modèle).\n",
    "\n",
    "### 2. Comprendre les données :\n",
    "\n",
    "- Analyser les données pour comprendre leur structure, qualité et caractéristiques.\n",
    "- Identifier les modèles, les valeurs aberrantes et les relations au sein des données.\n",
    "\n",
    "### 3. Prétraiter les données :\n",
    "\n",
    "- Nettoyer les données en traitant les valeurs manquantes, les valeurs aberrantes et les doublons.\n",
    "- Transformer et normaliser les données si nécessaire.\n",
    "- Mixer et regrouper les datas que vous pensez cohérentes ensembles.\n",
    "\n",
    "### 4. Sélectionner les modèles candidats :\n",
    "\n",
    "- Quand les Choisir un ensemble de modèles adaptés au problème.\n",
    "- Voici une liste des modèles possibles:\n",
    " - Régression logistique\n",
    " - Régression linéaire\n",
    " - Forêt Aléatoire\n",
    " - kNN voisins\n",
    " - Classification naïve bayésienne\n",
    " \n",
    "- Essayer d'entrainer chaque modèle différent et de voir leurs performances differentes\n",
    "\n",
    "### 5. Comparer les performances des modèles :\n",
    "\n",
    "- Faire un tableau des différents modèles et de leurs performances\n",
    "- Entraîner et évaluer les modèles en utilisant des métriques de performance appropriées."
   ]
  },
  {
   "cell_type": "markdown",
   "metadata": {},
   "source": [
    "### 1. Définir le problème et les objectifs\n",
    "\n",
    "Quel est le but de notre analyse de donnée et de notre modèle?\n",
    "\n",
    "Nous voulons prédire si un passager va survivre ou non au crash du Titanic.\n",
    "\n",
    "Quelles sont donc les données importantes?\n",
    "\n",
    "### **Instructions:**  \n",
    "- Ouvrez les datasets `train.csv` et `test.csv`.\n",
    "- Listez toutes les colonnes différentes.\n",
    "- Quels sont pour vous, les données qui pourrait influer sur la chance de survie du passager?"
   ]
  },
  {
   "cell_type": "code",
   "execution_count": 1,
   "metadata": {},
   "outputs": [],
   "source": [
    "# Import de toutes les librairies nécessaires\n",
    "# data analysis and wrangling\n",
    "import pandas as pd\n",
    "import numpy as np\n",
    "import random as rnd\n",
    "\n",
    "# visualization\n",
    "import seaborn as sns\n",
    "import matplotlib.pyplot as plt\n",
    "%matplotlib inline\n",
    "\n",
    "# machine learning\n",
    "from sklearn.linear_model import LogisticRegression\n",
    "from sklearn.svm import SVC, LinearSVC\n",
    "from sklearn.ensemble import RandomForestClassifier\n",
    "from sklearn.neighbors import KNeighborsClassifier\n",
    "from sklearn.naive_bayes import GaussianNB\n",
    "from sklearn.linear_model import Perceptron\n",
    "from sklearn.linear_model import SGDClassifier\n",
    "from sklearn.tree import DecisionTreeClassifier"
   ]
  },
  {
   "cell_type": "markdown",
   "metadata": {},
   "source": [
    "### Ouvrez les datasets train.csv et test.csv"
   ]
  },
  {
   "cell_type": "code",
   "execution_count": null,
   "metadata": {},
   "outputs": [],
   "source": []
  },
  {
   "cell_type": "markdown",
   "metadata": {},
   "source": [
    "### Listez toutes les colonnes différentes"
   ]
  },
  {
   "cell_type": "code",
   "execution_count": null,
   "metadata": {},
   "outputs": [],
   "source": []
  },
  {
   "cell_type": "markdown",
   "metadata": {},
   "source": [
    "### Quels sont pour vous, les données qui pourrait influer sur la chance de survie du passager?"
   ]
  },
  {
   "cell_type": "code",
   "execution_count": null,
   "metadata": {},
   "outputs": [],
   "source": []
  },
  {
   "cell_type": "markdown",
   "metadata": {},
   "source": [
    "# 2. Comprendre la donnée:\n",
    "\n",
    "## Visualiser la donnée\n",
    "\n",
    "En sciences de données, il est important de toujours visualiser ce que l'on manipule.\n",
    "\n",
    "Nous allons en premier lieu, afficher la donnée que l'on a à disposition afin de mieux comprendre le problème posé.\n",
    "\n",
    "### Instructions\n",
    "\n",
    "- Récupérez les données entrainement et tests des deux datasets, dans deux variables différentes.\n",
    "- Affichez un tableau des 10 premiers éléments des deux datasets `train.csv` et `test.csv`\n"
   ]
  },
  {
   "cell_type": "markdown",
   "metadata": {},
   "source": [
    "### Récupérez les données entrainement et tests des deux datasets, dans deux variables différentes."
   ]
  },
  {
   "cell_type": "code",
   "execution_count": 6,
   "metadata": {},
   "outputs": [],
   "source": []
  },
  {
   "cell_type": "markdown",
   "metadata": {},
   "source": [
    "### Affichez un tableau des 10 premiers éléments des deux datasets `train.csv` et `test.csv`"
   ]
  },
  {
   "cell_type": "code",
   "execution_count": 7,
   "metadata": {},
   "outputs": [],
   "source": []
  },
  {
   "cell_type": "markdown",
   "metadata": {},
   "source": [
    "## Evaluer les types de données présents\n",
    "\n",
    "### **Instructions**\n",
    "\n",
    "- Identifiez quelle colonne est catégorique, et quelle colonne est un nombre. \n",
    "- Par exemple: `Sex` est catégorique, `Age` est numérique\n",
    "- Utilisez la fonction `info()` et `describe()` de pandas, afin d'avoir plus de précisions sur la donnée."
   ]
  },
  {
   "cell_type": "markdown",
   "metadata": {},
   "source": [
    "### Identifiez quelle colonne est catégorique, et quelle colonne est un nombre. "
   ]
  },
  {
   "cell_type": "code",
   "execution_count": 8,
   "metadata": {},
   "outputs": [],
   "source": []
  },
  {
   "cell_type": "markdown",
   "metadata": {},
   "source": [
    "### Utilisez la fonction `info()` et `describe()` de pandas, afin d'avoir plus de précisions sur la donnée."
   ]
  },
  {
   "cell_type": "code",
   "execution_count": 9,
   "metadata": {},
   "outputs": [],
   "source": []
  },
  {
   "cell_type": "markdown",
   "metadata": {},
   "source": [
    "## Emettez des hypothèses face à cette donnée\n",
    "\n",
    "Il est temps de regarder certains corrélations possibles.\n",
    "\n",
    "### **Instructions:**\n",
    "\n",
    "- Identifiez les colonnes qui ont l'air corrélées à la survie ou non d'un passager\n",
    "- Quelle caractéristique a l'air d'augmenter ou de diminuer la chance de survie d'un passager?\n",
    "- Choisissez les colonnes que vous pensez être les plus utiles.\n",
    "- Confrontez ces colonnes avec la survie d'un passager. Regardez \"Faire pivoter de la donnée\" sur internet."
   ]
  },
  {
   "cell_type": "markdown",
   "metadata": {},
   "source": [
    "### Identifiez les colonnes qui ont l'air corrélées à la survie ou non d'un passager"
   ]
  },
  {
   "cell_type": "code",
   "execution_count": 10,
   "metadata": {},
   "outputs": [],
   "source": []
  },
  {
   "cell_type": "markdown",
   "metadata": {},
   "source": [
    "### Quelle caractéristique a l'air d'augmenter ou de diminuer la chance de survie d'un passager?"
   ]
  },
  {
   "cell_type": "code",
   "execution_count": 11,
   "metadata": {},
   "outputs": [],
   "source": []
  },
  {
   "cell_type": "markdown",
   "metadata": {},
   "source": [
    "### Choisissez les colonnes que vous pensez être les plus utiles."
   ]
  },
  {
   "cell_type": "markdown",
   "metadata": {},
   "source": []
  },
  {
   "cell_type": "markdown",
   "metadata": {},
   "source": [
    "### Confrontez ces colonnes avec la survie d'un passager. Regardez \"Faire pivoter de la donnée\" sur internet."
   ]
  },
  {
   "cell_type": "code",
   "execution_count": 13,
   "metadata": {},
   "outputs": [],
   "source": []
  },
  {
   "cell_type": "markdown",
   "metadata": {},
   "source": [
    "Qu'a t'on appris avec les tableaux au dessus? Quelle donnée a l'air d'être importante?\n",
    "\n",
    "Il faut que vous émettiez des hypothèses sur quelle donnée peut être importante.\n",
    "\n",
    "Pensez vous que le prix du billet est important dans les chances de survie?\n",
    "\n",
    "## Trouver les corrélations\n",
    "\n",
    "Quelle est la meilleure manière de trouver ces corrélations? Visualiser!\n",
    "Nous allons produire des graphes pour nous aider à comprendre les liens de nos données que nous avons confronté précedemment.\n",
    "\n",
    "1. Corréler les valeurs numériques\n",
    "2. Corréler les valeurs catégoriques\n",
    "\n",
    "### **Instructions:**\n",
    "\n",
    "- Emettez au moins 2 hypothèses sur une corrélation entre la colonne et la survie.\n",
    "- Distinguez les valeurs numériques des valeurs catégoriques\n",
    "- Pour chaque corrélation, produisez un graphe afin de visualiser cette corrélation et la valider ou non\n",
    "- Ecrivez vos observations. Vous utiliserez ces observations pour conserver les colonnes que vous avez identifié comme importante."
   ]
  },
  {
   "cell_type": "markdown",
   "metadata": {},
   "source": [
    "### Emettez au moins 2 hypothèses sur une corrélation entre la colonne et la survie."
   ]
  },
  {
   "cell_type": "markdown",
   "metadata": {},
   "source": []
  },
  {
   "cell_type": "markdown",
   "metadata": {},
   "source": [
    "### Distinguez les valeurs numériques des valeurs catégoriques"
   ]
  },
  {
   "cell_type": "markdown",
   "metadata": {},
   "source": []
  },
  {
   "cell_type": "markdown",
   "metadata": {},
   "source": [
    "### Pour chaque corrélation, produisez un graphe afin de visualiser cette corrélation et la valider ou non\n",
    "\n",
    "Produisez un ou des histogrammes de votre colonne contre la colonne `Survived`"
   ]
  },
  {
   "cell_type": "code",
   "execution_count": 14,
   "metadata": {},
   "outputs": [],
   "source": []
  },
  {
   "cell_type": "markdown",
   "metadata": {},
   "source": [
    "Produisez une suite d'histogrammes en croisant des données numériques et des données catégoriques"
   ]
  },
  {
   "cell_type": "code",
   "execution_count": 16,
   "metadata": {},
   "outputs": [],
   "source": [
    "# grid = sns.FacetGrid('<votre_dataset_entrainement>', col='Survived', row='<colonne_1>')\n",
    "# grid.map(plt.hist, '<colonne_2>', alpha=.5, bins=20)\n",
    "# grid.add_legend();"
   ]
  },
  {
   "cell_type": "markdown",
   "metadata": {},
   "source": [
    "Produisez une suite de graphe de point afin en croisant des données numériques et des données catégoriques"
   ]
  },
  {
   "cell_type": "code",
   "execution_count": 17,
   "metadata": {},
   "outputs": [],
   "source": [
    "# grid = sns.FacetGrid('<votre_dataset_entrainement>', row='<colonne_1>')\n",
    "# grid.map(sns.pointplot, '<colonne_2>', 'Survived', '<colonne_3>', palette='deep')\n",
    "# grid.add_legend()"
   ]
  },
  {
   "cell_type": "markdown",
   "metadata": {},
   "source": [
    "### Ecrivez vos observations. Vous utiliserez ces observations pour conserver les colonnes que vous avez identifié comme importante."
   ]
  },
  {
   "cell_type": "markdown",
   "metadata": {},
   "source": []
  },
  {
   "cell_type": "markdown",
   "metadata": {},
   "source": [
    "### Conclusion de l'analyse de donnée\n",
    "\n",
    "Listez les colonnes que vous confirmez comme importante\n",
    "\n",
    "- ...\n",
    "- ..."
   ]
  },
  {
   "cell_type": "markdown",
   "metadata": {},
   "source": [
    "# 3. Prétraiter les données :\n",
    "\n",
    "Les actions possibles:\n",
    "\n",
    "1. Enlever la donnée inutile\n",
    "2. Créer des nouvelles données. Exemple: Extraire les titres des passagers \n",
    "3. Compléter de la donnée incomplète\n",
    "\n",
    "L'objectif à la fin de cette étape est d'avoir un tableau avec les données nécessaire uniquement, sous une forme numérique.\n",
    "\n",
    "Un modèle IA comprend et manipule des nombres uniquement. Il est donc important de manipuler des données numériques uniquement.\n",
    "\n",
    "### **Instructions:**\n",
    "\n",
    "- Trouvez et supprimez les colonnes que vous n'avez pas identifié comme importante\n",
    "- Convertissez les données catégoriques en données numériques. Ex: Le port d'embarcation S peut être lié à la value 1, le E à la valeur 2 etc..."
   ]
  },
  {
   "cell_type": "markdown",
   "metadata": {},
   "source": [
    "### Trouvez et supprimez les colonnes que vous n'avez pas identifié comme importante"
   ]
  },
  {
   "cell_type": "code",
   "execution_count": null,
   "metadata": {},
   "outputs": [],
   "source": []
  },
  {
   "cell_type": "markdown",
   "metadata": {},
   "source": [
    "### Convertissez les données catégoriques en données numériques. Ex: Le port d'embarcation S peut être lié à la value 1, le E à la valeur 2 etc..."
   ]
  },
  {
   "cell_type": "markdown",
   "metadata": {},
   "source": []
  }
 ],
 "metadata": {
  "kernelspec": {
   "display_name": "Python 3 (ipykernel)",
   "language": "python",
   "name": "python3"
  },
  "language_info": {
   "codemirror_mode": {
    "name": "ipython",
    "version": 3
   },
   "file_extension": ".py",
   "mimetype": "text/x-python",
   "name": "python",
   "nbconvert_exporter": "python",
   "pygments_lexer": "ipython3",
   "version": "3.10.14"
  }
 },
 "nbformat": 4,
 "nbformat_minor": 2
}
