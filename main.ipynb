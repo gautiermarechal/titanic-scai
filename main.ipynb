{
 "cells": [
  {
   "cell_type": "code",
   "execution_count": 14,
   "metadata": {},
   "outputs": [],
   "source": [
    "# Import de toutes les librairies nécessaires\n",
    "import torch\n",
    "import pandas as pd"
   ]
  },
  {
   "cell_type": "markdown",
   "metadata": {},
   "source": [
    "# Visualiser la donnée\n",
    "\n",
    "En sciences de données, il est important de toujours visualiser ce que l'on manipule.\n",
    "Nous allons en premier lieu, afficher la donnée que l'on a à disposition afin de mieux comprendre le problème posé.\n"
   ]
  },
  {
   "cell_type": "code",
   "execution_count": 15,
   "metadata": {},
   "outputs": [
    {
     "name": "stdout",
     "output_type": "stream",
     "text": [
      "Sexe des personnes\n",
      "   PassengerId  Survived\n",
      "0          892         0\n",
      "1          893         1\n",
      "2          894         0\n",
      "3          895         0\n",
      "4          896         1\n",
      "---------------------------------------------\n",
      "Données d'entrainement\n",
      "   PassengerId  Survived  Pclass  \\\n",
      "0            1         0       3   \n",
      "1            2         1       1   \n",
      "2            3         1       3   \n",
      "3            4         1       1   \n",
      "4            5         0       3   \n",
      "\n",
      "                                                Name     Sex   Age  SibSp  \\\n",
      "0                            Braund, Mr. Owen Harris    male  22.0      1   \n",
      "1  Cumings, Mrs. John Bradley (Florence Briggs Th...  female  38.0      1   \n",
      "2                             Heikkinen, Miss. Laina  female  26.0      0   \n",
      "3       Futrelle, Mrs. Jacques Heath (Lily May Peel)  female  35.0      1   \n",
      "4                           Allen, Mr. William Henry    male  35.0      0   \n",
      "\n",
      "   Parch            Ticket     Fare Cabin Embarked  \n",
      "0      0         A/5 21171   7.2500   NaN        S  \n",
      "1      0          PC 17599  71.2833   C85        C  \n",
      "2      0  STON/O2. 3101282   7.9250   NaN        S  \n",
      "3      0            113803  53.1000  C123        S  \n",
      "4      0            373450   8.0500   NaN        S  \n",
      "---------------------------------------------\n",
      "Données de test\n",
      "   PassengerId  Pclass                                          Name     Sex  \\\n",
      "0          892       3                              Kelly, Mr. James    male   \n",
      "1          893       3              Wilkes, Mrs. James (Ellen Needs)  female   \n",
      "2          894       2                     Myles, Mr. Thomas Francis    male   \n",
      "3          895       3                              Wirz, Mr. Albert    male   \n",
      "4          896       3  Hirvonen, Mrs. Alexander (Helga E Lindqvist)  female   \n",
      "\n",
      "    Age  SibSp  Parch   Ticket     Fare Cabin Embarked  \n",
      "0  34.5      0      0   330911   7.8292   NaN        Q  \n",
      "1  47.0      1      0   363272   7.0000   NaN        S  \n",
      "2  62.0      0      0   240276   9.6875   NaN        Q  \n",
      "3  27.0      0      0   315154   8.6625   NaN        S  \n",
      "4  22.0      1      1  3101298  12.2875   NaN        S  \n"
     ]
    }
   ],
   "source": [
    "# Ouverture des fichiers et lecture de la donnée à disposition\n",
    "\n",
    "# Chemin d'accès du fichier du sexe des personnes\n",
    "fichier_sexe_personne = 'data/gender_submission.csv'\n",
    "\n",
    "# Lecture du fichier du sexe des personnes\n",
    "dataframe_sexe_personne = pd.read_csv('data/gender_submission.csv')\n",
    " \n",
    "# Affichage des 5 premières lignes du fichier du sexe des personnes\n",
    "print(\"Sexe des personnes\")\n",
    "print(dataframe_sexe_personne.head())\n",
    "print(\"---------------------------------------------\")\n",
    "\n",
    "# Chemin d'accès du fichier des données des personnes (train) (données d'entrainement)\n",
    "fichier_donnees_personne_train = 'data/train.csv'\n",
    "\n",
    "# Lecture du fichier des données des personnes (train) (données d'entrainement)\n",
    "dataframe_donnees_personne_train = pd.read_csv('data/train.csv')\n",
    "\n",
    "# Affichage des 5 premières lignes du fichier des données des personnes (train) (données d'entrainement)\n",
    "print(\"Données d'entrainement\")\n",
    "print(dataframe_donnees_personne_train.head())\n",
    "print(\"---------------------------------------------\")\n",
    "\n",
    "# Chemin d'accès du fichier des données des personnes (test)\n",
    "fichier_donnees_personne_test = 'data/test.csv'\n",
    "\n",
    "# Lecture du fichier des données des personnes (test)\n",
    "dataframe_donnees_personne_test = pd.read_csv('data/test.csv')\n",
    "\n",
    "# Affichage des 5 premières lignes du fichier des données des personnes (test)\n",
    "print(\"Données de test\")\n",
    "print(dataframe_donnees_personne_test.head())\n"
   ]
  },
  {
   "cell_type": "code",
   "execution_count": null,
   "metadata": {},
   "outputs": [],
   "source": []
  }
 ],
 "metadata": {
  "kernelspec": {
   "display_name": "Python 3 (ipykernel)",
   "language": "python",
   "name": "python3"
  },
  "language_info": {
   "codemirror_mode": {
    "name": "ipython",
    "version": 3
   },
   "file_extension": ".py",
   "mimetype": "text/x-python",
   "name": "python",
   "nbconvert_exporter": "python",
   "pygments_lexer": "ipython3",
   "version": "3.10.14"
  }
 },
 "nbformat": 4,
 "nbformat_minor": 2
}
