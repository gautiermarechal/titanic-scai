{
 "cells": [
  {
   "cell_type": "markdown",
   "id": "2dec14fe",
   "metadata": {
    "id": "view-in-github",
    "papermill": {
     "duration": 0.018277,
     "end_time": "2024-06-11T11:57:08.047514",
     "exception": false,
     "start_time": "2024-06-11T11:57:08.029237",
     "status": "completed"
    },
    "tags": []
   },
   "source": [
    "<a href=\"https://colab.research.google.com/github/gautiermarechal/titanic-scai/blob/main/Titanic_Dataset.ipynb\" target=\"_parent\"><img src=\"https://colab.research.google.com/assets/colab-badge.svg\" alt=\"Open In Colab\"/></a>"
   ]
  },
  {
   "cell_type": "markdown",
   "id": "cb64171a",
   "metadata": {
    "papermill": {
     "duration": 0.017738,
     "end_time": "2024-06-11T11:57:08.083494",
     "exception": false,
     "start_time": "2024-06-11T11:57:08.065756",
     "status": "completed"
    },
    "tags": []
   },
   "source": [
    "# Challenge du titanic\n",
    "\n",
    "Bienvenue au challenge du Titanic dans l'école d'été IA de Sorbonne Université, et du Campus des Métiers et des Qualifications.\n",
    "\n",
    "Le dataset du titanic est un jeu de donnée très populaire afin de s'introduire à la science des données et à l'intelligence artificielle.\n",
    "\n",
    "## Objectif principal\n",
    "\n",
    "L'objectif de ce challenge est de prédire au mieux, basé sur un jeu de donnée existant, si un passager du Titanic a survécu ou non, dépendemment de paramètres spécifiques.\n",
    "\n",
    "Pour effectuer ce challenge, vous n'avez pas besoin de connaitre les mathématiques derrière le processus d'entrainement des modèles.\n",
    "\n",
    "Ici, l'objectif est de vous familiariser avec l'aspect le plus important de l'intelligence artificielle: les données. La plus grande partie du challenge consiste à manipuler les données pour les rendre les plus exploitables possible.\n",
    "\n",
    "## Les étapes:\n",
    "\n",
    "### 1. Définir le problème et les objectifs :\n",
    "\n",
    "- Comprendre clairement le problème que vous essayez de résoudre.\n",
    "- Définir les métriques de succès et les objectifs (par exemple, précision du modèle).\n",
    "\n",
    "### 2. Comprendre les données :\n",
    "\n",
    "- Analyser les données pour comprendre leur structure, qualité et caractéristiques.\n",
    "- Identifier les modèles, les valeurs aberrantes et les relations au sein des données.\n",
    "\n",
    "### 3. Prétraiter les données :\n",
    "\n",
    "- Nettoyer les données en traitant les valeurs manquantes, les valeurs aberrantes et les doublons.\n",
    "- Transformer et normaliser les données si nécessaire.\n",
    "- Mixer et regrouper les datas que vous pensez cohérentes ensembles.\n",
    "\n",
    "### 4. Sélectionner les modèles candidats :\n",
    "\n",
    "- Choisir un ensemble de modèles adaptés au problème.\n",
    "\n",
    "#### Voici une liste des modèles possibles:\n",
    " - Régression logistique\n",
    " - kNN voisins\n",
    " - Forêt Aléatoire\n",
    " - Classification naïve bayésienne\n",
    " - Perceptron\n",
    " \n",
    "- Essayer d'entrainer chaque modèle différent et de voir leurs performances differentes\n",
    "\n",
    "### 5. Comparer les performances des modèles :\n",
    "\n",
    "- Faire un tableau des différents modèles et de leurs performances\n",
    "- Entraîner et évaluer les modèles en utilisant des métriques de performance appropriées."
   ]
  },
  {
   "cell_type": "markdown",
   "id": "e495a6a8",
   "metadata": {
    "papermill": {
     "duration": 0.016588,
     "end_time": "2024-06-11T11:57:08.121809",
     "exception": false,
     "start_time": "2024-06-11T11:57:08.105221",
     "status": "completed"
    },
    "tags": []
   },
   "source": [
    "### 1. Définir le problème et les objectifs\n",
    "\n",
    "Quel est le but de notre analyse de donnée et de notre modèle?\n",
    "\n",
    "Nous voulons prédire si un passager va survivre ou non au crash du Titanic.\n",
    "\n",
    "Quelles sont donc les données importantes?\n",
    "\n",
    "### **Instructions:**  \n",
    "- Ouvrez les datasets `train.csv` et `test.csv`.\n",
    "- Listez toutes les colonnes différentes.\n",
    "- Quels sont pour vous, les données qui pourrait influer sur la chance de survie du passager?"
   ]
  },
  {
   "cell_type": "code",
   "execution_count": 1,
   "id": "e97d7ee6",
   "metadata": {
    "execution": {
     "iopub.execute_input": "2024-06-11T11:57:08.158310Z",
     "iopub.status.busy": "2024-06-11T11:57:08.157792Z",
     "iopub.status.idle": "2024-06-11T11:57:12.349960Z",
     "shell.execute_reply": "2024-06-11T11:57:12.347922Z"
    },
    "papermill": {
     "duration": 4.214358,
     "end_time": "2024-06-11T11:57:12.353470",
     "exception": false,
     "start_time": "2024-06-11T11:57:08.139112",
     "status": "completed"
    },
    "tags": []
   },
   "outputs": [],
   "source": [
    "# Import de toutes les librairies nécessaires\n",
    "# data analysis and wrangling\n",
    "import pandas as pd\n",
    "import numpy as np\n",
    "import random as rnd\n",
    "\n",
    "# visualization\n",
    "import seaborn as sns\n",
    "import matplotlib.pyplot as plt\n",
    "%matplotlib inline\n",
    "\n",
    "# machine learning\n",
    "from sklearn.linear_model import LogisticRegression\n",
    "from sklearn.svm import SVC, LinearSVC\n",
    "from sklearn.ensemble import RandomForestClassifier\n",
    "from sklearn.neighbors import KNeighborsClassifier\n",
    "from sklearn.naive_bayes import GaussianNB\n",
    "from sklearn.linear_model import Perceptron\n",
    "from sklearn.linear_model import SGDClassifier\n",
    "from sklearn.tree import DecisionTreeClassifier"
   ]
  },
  {
   "cell_type": "markdown",
   "id": "0c68a7dd",
   "metadata": {
    "papermill": {
     "duration": 0.016349,
     "end_time": "2024-06-11T11:57:12.388694",
     "exception": false,
     "start_time": "2024-06-11T11:57:12.372345",
     "status": "completed"
    },
    "tags": []
   },
   "source": [
    "### Ouvrez les datasets train.csv et test.csv"
   ]
  },
  {
   "cell_type": "code",
   "execution_count": null,
   "id": "4555d2aa",
   "metadata": {
    "papermill": {
     "duration": 0.017269,
     "end_time": "2024-06-11T11:57:12.425008",
     "exception": false,
     "start_time": "2024-06-11T11:57:12.407739",
     "status": "completed"
    },
    "tags": []
   },
   "outputs": [],
   "source": []
  },
  {
   "cell_type": "markdown",
   "id": "a759dee6",
   "metadata": {
    "papermill": {
     "duration": 0.018576,
     "end_time": "2024-06-11T11:57:12.464352",
     "exception": false,
     "start_time": "2024-06-11T11:57:12.445776",
     "status": "completed"
    },
    "tags": []
   },
   "source": [
    "### Listez toutes les colonnes différentes"
   ]
  },
  {
   "cell_type": "code",
   "execution_count": null,
   "id": "0a8b9583",
   "metadata": {
    "papermill": {
     "duration": 0.018994,
     "end_time": "2024-06-11T11:57:12.504568",
     "exception": false,
     "start_time": "2024-06-11T11:57:12.485574",
     "status": "completed"
    },
    "tags": []
   },
   "outputs": [],
   "source": []
  },
  {
   "cell_type": "markdown",
   "id": "67b3aa55",
   "metadata": {
    "papermill": {
     "duration": 0.019877,
     "end_time": "2024-06-11T11:57:12.543406",
     "exception": false,
     "start_time": "2024-06-11T11:57:12.523529",
     "status": "completed"
    },
    "tags": []
   },
   "source": [
    "### Quels sont pour vous, les données qui pourrait influer sur la chance de survie du passager?"
   ]
  },
  {
   "cell_type": "code",
   "execution_count": null,
   "id": "e536206d",
   "metadata": {
    "papermill": {
     "duration": 0.019921,
     "end_time": "2024-06-11T11:57:12.584886",
     "exception": false,
     "start_time": "2024-06-11T11:57:12.564965",
     "status": "completed"
    },
    "tags": []
   },
   "outputs": [],
   "source": []
  },
  {
   "cell_type": "markdown",
   "id": "e9fdab56",
   "metadata": {
    "papermill": {
     "duration": 0.018312,
     "end_time": "2024-06-11T11:57:12.620526",
     "exception": false,
     "start_time": "2024-06-11T11:57:12.602214",
     "status": "completed"
    },
    "tags": []
   },
   "source": [
    "# 2. Comprendre la donnée:\n",
    "\n",
    "## Visualiser la donnée\n",
    "\n",
    "En sciences de données, il est important de toujours visualiser ce que l'on manipule.\n",
    "\n",
    "Nous allons en premier lieu, afficher la donnée que l'on a à disposition afin de mieux comprendre le problème posé.\n",
    "\n",
    "### Instructions\n",
    "\n",
    "- Récupérez les données entrainement et tests des deux datasets, dans deux variables différentes.\n",
    "- Affichez un tableau des 10 premiers éléments des deux datasets `train.csv` et `test.csv`\n"
   ]
  },
  {
   "cell_type": "markdown",
   "id": "2224c5ac",
   "metadata": {
    "papermill": {
     "duration": 0.018176,
     "end_time": "2024-06-11T11:57:12.655476",
     "exception": false,
     "start_time": "2024-06-11T11:57:12.637300",
     "status": "completed"
    },
    "tags": []
   },
   "source": [
    "### Récupérez les données entrainement et tests des deux datasets, dans deux variables différentes."
   ]
  },
  {
   "cell_type": "code",
   "execution_count": null,
   "id": "9d2812ac",
   "metadata": {
    "papermill": {
     "duration": 0.018277,
     "end_time": "2024-06-11T11:57:12.691682",
     "exception": false,
     "start_time": "2024-06-11T11:57:12.673405",
     "status": "completed"
    },
    "tags": []
   },
   "outputs": [],
   "source": []
  },
  {
   "cell_type": "markdown",
   "id": "5c6ddbfb",
   "metadata": {
    "papermill": {
     "duration": 0.016637,
     "end_time": "2024-06-11T11:57:12.725734",
     "exception": false,
     "start_time": "2024-06-11T11:57:12.709097",
     "status": "completed"
    },
    "tags": []
   },
   "source": [
    "### Affichez un tableau des 10 premiers éléments des deux datasets `train.csv` et `test.csv`"
   ]
  },
  {
   "cell_type": "code",
   "execution_count": null,
   "id": "a4971087",
   "metadata": {
    "papermill": {
     "duration": 0.018195,
     "end_time": "2024-06-11T11:57:12.761063",
     "exception": false,
     "start_time": "2024-06-11T11:57:12.742868",
     "status": "completed"
    },
    "tags": []
   },
   "outputs": [],
   "source": []
  },
  {
   "cell_type": "markdown",
   "id": "2da17cc9",
   "metadata": {
    "papermill": {
     "duration": 0.019814,
     "end_time": "2024-06-11T11:57:12.799585",
     "exception": false,
     "start_time": "2024-06-11T11:57:12.779771",
     "status": "completed"
    },
    "tags": []
   },
   "source": [
    "## Evaluer les types de données présents\n",
    "\n",
    "### **Instructions**\n",
    "\n",
    "- Identifiez quelle colonne est catégorique, et quelle colonne est un nombre. \n",
    "- Par exemple: `Sex` est catégorique, `Age` est numérique\n",
    "- Utilisez la fonction `info()` et `describe()` de pandas, afin d'avoir plus de précisions sur la donnée."
   ]
  },
  {
   "cell_type": "markdown",
   "id": "96419371",
   "metadata": {
    "papermill": {
     "duration": 0.017164,
     "end_time": "2024-06-11T11:57:12.836122",
     "exception": false,
     "start_time": "2024-06-11T11:57:12.818958",
     "status": "completed"
    },
    "tags": []
   },
   "source": [
    "### Identifiez quelle colonne est catégorique, et quelle colonne est un nombre. "
   ]
  },
  {
   "cell_type": "code",
   "execution_count": null,
   "id": "0d63f007",
   "metadata": {
    "papermill": {
     "duration": 0.01861,
     "end_time": "2024-06-11T11:57:12.872859",
     "exception": false,
     "start_time": "2024-06-11T11:57:12.854249",
     "status": "completed"
    },
    "tags": []
   },
   "outputs": [],
   "source": []
  },
  {
   "cell_type": "markdown",
   "id": "79e47103",
   "metadata": {
    "papermill": {
     "duration": 0.016031,
     "end_time": "2024-06-11T11:57:12.905546",
     "exception": false,
     "start_time": "2024-06-11T11:57:12.889515",
     "status": "completed"
    },
    "tags": []
   },
   "source": [
    "### Utilisez la fonction `info()` et `describe()` de pandas, afin d'avoir plus de précisions sur la donnée."
   ]
  },
  {
   "cell_type": "code",
   "execution_count": null,
   "id": "e6f1943d",
   "metadata": {
    "papermill": {
     "duration": 0.018743,
     "end_time": "2024-06-11T11:57:12.941884",
     "exception": false,
     "start_time": "2024-06-11T11:57:12.923141",
     "status": "completed"
    },
    "tags": []
   },
   "outputs": [],
   "source": []
  },
  {
   "cell_type": "markdown",
   "id": "7e0db9de",
   "metadata": {
    "papermill": {
     "duration": 0.018622,
     "end_time": "2024-06-11T11:57:12.979017",
     "exception": false,
     "start_time": "2024-06-11T11:57:12.960395",
     "status": "completed"
    },
    "tags": []
   },
   "source": [
    "## Emettez des hypothèses face à cette donnée\n",
    "\n",
    "Il est temps de regarder certains corrélations possibles.\n",
    "\n",
    "### **Instructions:**\n",
    "\n",
    "- Identifiez les colonnes qui ont l'air corrélées à la survie ou non d'un passager\n",
    "- Quelle caractéristique a l'air d'augmenter ou de diminuer la chance de survie d'un passager?\n",
    "- Choisissez les colonnes que vous pensez être les plus utiles.\n",
    "- Confrontez ces colonnes avec la survie d'un passager. Regardez \"Faire pivoter de la donnée\" sur internet."
   ]
  },
  {
   "cell_type": "markdown",
   "id": "ca5c0f1c",
   "metadata": {
    "papermill": {
     "duration": 0.017805,
     "end_time": "2024-06-11T11:57:13.014939",
     "exception": false,
     "start_time": "2024-06-11T11:57:12.997134",
     "status": "completed"
    },
    "tags": []
   },
   "source": [
    "### Identifiez les colonnes qui ont l'air corrélées à la survie ou non d'un passager"
   ]
  },
  {
   "cell_type": "code",
   "execution_count": null,
   "id": "0c54cc81",
   "metadata": {
    "papermill": {
     "duration": 0.135874,
     "end_time": "2024-06-11T11:57:13.169003",
     "exception": false,
     "start_time": "2024-06-11T11:57:13.033129",
     "status": "completed"
    },
    "tags": []
   },
   "outputs": [],
   "source": []
  },
  {
   "cell_type": "markdown",
   "id": "cfc80a37",
   "metadata": {
    "papermill": {
     "duration": 0.022469,
     "end_time": "2024-06-11T11:57:13.214244",
     "exception": false,
     "start_time": "2024-06-11T11:57:13.191775",
     "status": "completed"
    },
    "tags": []
   },
   "source": [
    "### Quelle caractéristique a l'air d'augmenter ou de diminuer la chance de survie d'un passager?"
   ]
  },
  {
   "cell_type": "code",
   "execution_count": null,
   "id": "e905c3b4",
   "metadata": {
    "papermill": {
     "duration": 0.025186,
     "end_time": "2024-06-11T11:57:13.258730",
     "exception": false,
     "start_time": "2024-06-11T11:57:13.233544",
     "status": "completed"
    },
    "tags": []
   },
   "outputs": [],
   "source": []
  },
  {
   "cell_type": "markdown",
   "id": "99e1d548",
   "metadata": {
    "papermill": {
     "duration": 0.025108,
     "end_time": "2024-06-11T11:57:13.306517",
     "exception": false,
     "start_time": "2024-06-11T11:57:13.281409",
     "status": "completed"
    },
    "tags": []
   },
   "source": [
    "### Choisissez les colonnes que vous pensez être les plus utiles."
   ]
  },
  {
   "cell_type": "markdown",
   "id": "fe8f6ac4",
   "metadata": {
    "papermill": {
     "duration": 0.017406,
     "end_time": "2024-06-11T11:57:13.350750",
     "exception": false,
     "start_time": "2024-06-11T11:57:13.333344",
     "status": "completed"
    },
    "tags": []
   },
   "source": []
  },
  {
   "cell_type": "markdown",
   "id": "a2e97c55",
   "metadata": {
    "papermill": {
     "duration": 0.028689,
     "end_time": "2024-06-11T11:57:13.397734",
     "exception": false,
     "start_time": "2024-06-11T11:57:13.369045",
     "status": "completed"
    },
    "tags": []
   },
   "source": [
    "### Confrontez ces colonnes avec la survie d'un passager. Regardez \"Faire pivoter de la donnée\" sur internet.\n",
    "\n",
    "Voici une commande pour pivoter la donnée. Remplacer <nom_colonne> par la colonne que vous voulez"
   ]
  },
  {
   "cell_type": "code",
   "execution_count": 2,
   "id": "a9e63b59",
   "metadata": {
    "execution": {
     "iopub.execute_input": "2024-06-11T11:57:13.443486Z",
     "iopub.status.busy": "2024-06-11T11:57:13.442748Z",
     "iopub.status.idle": "2024-06-11T11:57:13.450971Z",
     "shell.execute_reply": "2024-06-11T11:57:13.448910Z"
    },
    "papermill": {
     "duration": 0.036997,
     "end_time": "2024-06-11T11:57:13.455631",
     "exception": false,
     "start_time": "2024-06-11T11:57:13.418634",
     "status": "completed"
    },
    "tags": []
   },
   "outputs": [],
   "source": [
    "# dataframe_donnees_entrainement[[\"<nom_colonne>\", 'Survived']].groupby(['Pclass'], as_index=False).mean().sort_values(by='Survived', ascending=False)"
   ]
  },
  {
   "cell_type": "markdown",
   "id": "bb38da6c",
   "metadata": {
    "papermill": {
     "duration": 0.019034,
     "end_time": "2024-06-11T11:57:13.495558",
     "exception": false,
     "start_time": "2024-06-11T11:57:13.476524",
     "status": "completed"
    },
    "tags": []
   },
   "source": [
    "Qu'a t'on appris avec les tableaux au dessus? Quelle donnée a l'air d'être importante?\n",
    "\n",
    "Il faut que vous émettiez des hypothèses sur quelle donnée peut être importante.\n",
    "\n",
    "Pensez vous que le prix du billet est important dans les chances de survie?\n",
    "\n",
    "## Trouver les corrélations\n",
    "\n",
    "Quelle est la meilleure manière de trouver ces corrélations? Visualiser!\n",
    "Nous allons produire des graphes pour nous aider à comprendre les liens de nos données que nous avons confronté précedemment.\n",
    "\n",
    "1. Corréler les valeurs numériques\n",
    "2. Corréler les valeurs catégoriques\n",
    "\n",
    "### **Instructions:**\n",
    "\n",
    "- Emettez au moins 2 hypothèses sur une corrélation entre la colonne et la survie.\n",
    "- Distinguez les valeurs numériques des valeurs catégoriques\n",
    "- Pour chaque corrélation, produisez un graphe afin de visualiser cette corrélation et la valider ou non\n",
    "- Ecrivez vos observations. Vous utiliserez ces observations pour conserver les colonnes que vous avez identifié comme importante."
   ]
  },
  {
   "cell_type": "markdown",
   "id": "c73d4753",
   "metadata": {
    "papermill": {
     "duration": 0.017203,
     "end_time": "2024-06-11T11:57:13.538681",
     "exception": false,
     "start_time": "2024-06-11T11:57:13.521478",
     "status": "completed"
    },
    "tags": []
   },
   "source": [
    "### Emettez au moins 2 hypothèses sur une corrélation entre la colonne et la survie."
   ]
  },
  {
   "cell_type": "markdown",
   "id": "402578be",
   "metadata": {
    "papermill": {
     "duration": 0.018083,
     "end_time": "2024-06-11T11:57:13.577176",
     "exception": false,
     "start_time": "2024-06-11T11:57:13.559093",
     "status": "completed"
    },
    "tags": []
   },
   "source": []
  },
  {
   "cell_type": "markdown",
   "id": "9c2ec129",
   "metadata": {
    "papermill": {
     "duration": 0.016804,
     "end_time": "2024-06-11T11:57:13.615329",
     "exception": false,
     "start_time": "2024-06-11T11:57:13.598525",
     "status": "completed"
    },
    "tags": []
   },
   "source": [
    "### Distinguez les valeurs numériques des valeurs catégoriques"
   ]
  },
  {
   "cell_type": "markdown",
   "id": "85494a26",
   "metadata": {
    "papermill": {
     "duration": 0.016283,
     "end_time": "2024-06-11T11:57:13.648187",
     "exception": false,
     "start_time": "2024-06-11T11:57:13.631904",
     "status": "completed"
    },
    "tags": []
   },
   "source": []
  },
  {
   "cell_type": "markdown",
   "id": "b575af93",
   "metadata": {
    "papermill": {
     "duration": 0.01931,
     "end_time": "2024-06-11T11:57:13.685542",
     "exception": false,
     "start_time": "2024-06-11T11:57:13.666232",
     "status": "completed"
    },
    "tags": []
   },
   "source": [
    "### Pour chaque corrélation, produisez un graphe afin de visualiser cette corrélation et la valider ou non\n",
    "\n",
    "Produisez un ou des histogrammes de votre colonne contre la colonne `Survived`"
   ]
  },
  {
   "cell_type": "code",
   "execution_count": null,
   "id": "9b143613",
   "metadata": {
    "papermill": {
     "duration": 0.017063,
     "end_time": "2024-06-11T11:57:13.719553",
     "exception": false,
     "start_time": "2024-06-11T11:57:13.702490",
     "status": "completed"
    },
    "tags": []
   },
   "outputs": [],
   "source": []
  },
  {
   "cell_type": "markdown",
   "id": "833004b6",
   "metadata": {
    "papermill": {
     "duration": 0.018031,
     "end_time": "2024-06-11T11:57:13.754150",
     "exception": false,
     "start_time": "2024-06-11T11:57:13.736119",
     "status": "completed"
    },
    "tags": []
   },
   "source": [
    "Produisez une suite d'histogrammes en croisant des données numériques et des données catégoriques"
   ]
  },
  {
   "cell_type": "code",
   "execution_count": 3,
   "id": "4c0da98e",
   "metadata": {
    "execution": {
     "iopub.execute_input": "2024-06-11T11:57:13.805117Z",
     "iopub.status.busy": "2024-06-11T11:57:13.804215Z",
     "iopub.status.idle": "2024-06-11T11:57:13.811350Z",
     "shell.execute_reply": "2024-06-11T11:57:13.808576Z"
    },
    "papermill": {
     "duration": 0.037094,
     "end_time": "2024-06-11T11:57:13.814833",
     "exception": false,
     "start_time": "2024-06-11T11:57:13.777739",
     "status": "completed"
    },
    "tags": []
   },
   "outputs": [],
   "source": [
    "# grid = sns.FacetGrid('<votre_dataset_entrainement>', col='Survived', row='<colonne_1>')\n",
    "# grid.map(plt.hist, '<colonne_2>', alpha=.5, bins=20)\n",
    "# grid.add_legend();"
   ]
  },
  {
   "cell_type": "markdown",
   "id": "3a0bead6",
   "metadata": {
    "papermill": {
     "duration": 0.022218,
     "end_time": "2024-06-11T11:57:13.861741",
     "exception": false,
     "start_time": "2024-06-11T11:57:13.839523",
     "status": "completed"
    },
    "tags": []
   },
   "source": [
    "Produisez une suite de graphe de point afin en croisant des données numériques et des données catégoriques"
   ]
  },
  {
   "cell_type": "code",
   "execution_count": 4,
   "id": "a3ba4ca0",
   "metadata": {
    "execution": {
     "iopub.execute_input": "2024-06-11T11:57:13.900704Z",
     "iopub.status.busy": "2024-06-11T11:57:13.900204Z",
     "iopub.status.idle": "2024-06-11T11:57:13.907921Z",
     "shell.execute_reply": "2024-06-11T11:57:13.905652Z"
    },
    "papermill": {
     "duration": 0.031585,
     "end_time": "2024-06-11T11:57:13.911430",
     "exception": false,
     "start_time": "2024-06-11T11:57:13.879845",
     "status": "completed"
    },
    "tags": []
   },
   "outputs": [],
   "source": [
    "# grid = sns.FacetGrid('<votre_dataset_entrainement>', row='<colonne_1>')\n",
    "# grid.map(sns.pointplot, '<colonne_2>', 'Survived', '<colonne_3>', palette='deep')\n",
    "# grid.add_legend()"
   ]
  },
  {
   "cell_type": "markdown",
   "id": "f516c702",
   "metadata": {
    "papermill": {
     "duration": 0.01696,
     "end_time": "2024-06-11T11:57:13.946519",
     "exception": false,
     "start_time": "2024-06-11T11:57:13.929559",
     "status": "completed"
    },
    "tags": []
   },
   "source": [
    "### Ecrivez vos observations. Vous utiliserez ces observations pour conserver les colonnes que vous avez identifié comme importante."
   ]
  },
  {
   "cell_type": "markdown",
   "id": "89413585",
   "metadata": {
    "papermill": {
     "duration": 0.018197,
     "end_time": "2024-06-11T11:57:13.981847",
     "exception": false,
     "start_time": "2024-06-11T11:57:13.963650",
     "status": "completed"
    },
    "tags": []
   },
   "source": []
  },
  {
   "cell_type": "markdown",
   "id": "1d0f0b7d",
   "metadata": {
    "papermill": {
     "duration": 0.019158,
     "end_time": "2024-06-11T11:57:14.019209",
     "exception": false,
     "start_time": "2024-06-11T11:57:14.000051",
     "status": "completed"
    },
    "tags": []
   },
   "source": [
    "### Conclusion de l'analyse de donnée\n",
    "\n",
    "Listez les colonnes que vous confirmez comme importantes\n",
    "\n",
    "- ...\n",
    "- ..."
   ]
  },
  {
   "cell_type": "markdown",
   "id": "5aad72e8",
   "metadata": {
    "papermill": {
     "duration": 0.017982,
     "end_time": "2024-06-11T11:57:14.058149",
     "exception": false,
     "start_time": "2024-06-11T11:57:14.040167",
     "status": "completed"
    },
    "tags": []
   },
   "source": [
    "# 3. Prétraiter les données :\n",
    "\n",
    "Les actions possibles:\n",
    "\n",
    "1. Enlever la donnée inutile\n",
    "2. Créer des nouvelles données. Exemple: Extraire les titres des passagers \n",
    "3. Compléter de la donnée incomplète\n",
    "\n",
    "L'objectif à la fin de cette étape est d'avoir un tableau avec les données nécessaire uniquement, sous une forme numérique.\n",
    "\n",
    "Un modèle IA comprend et manipule des nombres uniquement. Il est donc important de manipuler des données numériques uniquement.\n",
    "\n",
    "### **Instructions:**\n",
    "\n",
    "- Trouvez et supprimez les colonnes que vous n'avez pas identifié comme importante\n",
    "- Convertissez les données catégoriques en données numériques. Ex: Le port d'embarcation S peut être lié à la value 1, le E à la valeur 2 etc..."
   ]
  },
  {
   "cell_type": "markdown",
   "id": "b48bd3e4",
   "metadata": {
    "papermill": {
     "duration": 0.016733,
     "end_time": "2024-06-11T11:57:14.092423",
     "exception": false,
     "start_time": "2024-06-11T11:57:14.075690",
     "status": "completed"
    },
    "tags": []
   },
   "source": [
    "### Trouvez et supprimez les colonnes que vous n'avez pas identifié comme importante"
   ]
  },
  {
   "cell_type": "code",
   "execution_count": null,
   "id": "5b362ba7",
   "metadata": {
    "papermill": {
     "duration": 0.018633,
     "end_time": "2024-06-11T11:57:14.128595",
     "exception": false,
     "start_time": "2024-06-11T11:57:14.109962",
     "status": "completed"
    },
    "tags": []
   },
   "outputs": [],
   "source": []
  },
  {
   "cell_type": "markdown",
   "id": "b9329c3c",
   "metadata": {
    "papermill": {
     "duration": 0.016693,
     "end_time": "2024-06-11T11:57:14.165879",
     "exception": false,
     "start_time": "2024-06-11T11:57:14.149186",
     "status": "completed"
    },
    "tags": []
   },
   "source": [
    "### Convertissez les données catégoriques en données numériques. Ex: Le port d'embarcation S peut être lié à la value 1, le E à la valeur 2 etc..."
   ]
  },
  {
   "cell_type": "code",
   "execution_count": null,
   "id": "01744e65",
   "metadata": {
    "papermill": {
     "duration": 0.016967,
     "end_time": "2024-06-11T11:57:14.199866",
     "exception": false,
     "start_time": "2024-06-11T11:57:14.182899",
     "status": "completed"
    },
    "tags": []
   },
   "outputs": [],
   "source": []
  },
  {
   "cell_type": "markdown",
   "id": "1bc8f869",
   "metadata": {
    "papermill": {
     "duration": 0.017301,
     "end_time": "2024-06-11T11:57:14.236315",
     "exception": false,
     "start_time": "2024-06-11T11:57:14.219014",
     "status": "completed"
    },
    "tags": []
   },
   "source": [
    "### Combinez les colonnes que vous pensez regroupables."
   ]
  },
  {
   "cell_type": "code",
   "execution_count": null,
   "id": "bccc8e59",
   "metadata": {
    "papermill": {
     "duration": 0.01683,
     "end_time": "2024-06-11T11:57:14.270065",
     "exception": false,
     "start_time": "2024-06-11T11:57:14.253235",
     "status": "completed"
    },
    "tags": []
   },
   "outputs": [],
   "source": []
  },
  {
   "cell_type": "markdown",
   "id": "9018f3b9",
   "metadata": {
    "papermill": {
     "duration": 0.016756,
     "end_time": "2024-06-11T11:57:14.303913",
     "exception": false,
     "start_time": "2024-06-11T11:57:14.287157",
     "status": "completed"
    },
    "tags": []
   },
   "source": [
    "## 4. Sélectionner les modèles candidats :\n",
    "\n",
    "Maintenant, les datasets d'entrainement et de tests sont prêts à être utilisés.\n",
    "\n",
    "Le dataset d'entrainement sera utilisé pour entrainer notre modèle et notre dataset test pour tester la performance de notre modèle.\n",
    "\n",
    "### **Instructions:**\n",
    "\n",
    "- Visualisez le dataset d'entrainement\n",
    "- Visualisez le dataset de test"
   ]
  },
  {
   "cell_type": "markdown",
   "id": "d93f5d29",
   "metadata": {
    "papermill": {
     "duration": 0.020011,
     "end_time": "2024-06-11T11:57:14.341598",
     "exception": false,
     "start_time": "2024-06-11T11:57:14.321587",
     "status": "completed"
    },
    "tags": []
   },
   "source": [
    "### Visualisez le dataset d'entrainement"
   ]
  },
  {
   "cell_type": "code",
   "execution_count": null,
   "id": "273e1f98",
   "metadata": {
    "papermill": {
     "duration": 0.017653,
     "end_time": "2024-06-11T11:57:14.378939",
     "exception": false,
     "start_time": "2024-06-11T11:57:14.361286",
     "status": "completed"
    },
    "tags": []
   },
   "outputs": [],
   "source": []
  },
  {
   "cell_type": "markdown",
   "id": "42b577fb",
   "metadata": {
    "papermill": {
     "duration": 0.017406,
     "end_time": "2024-06-11T11:57:14.413916",
     "exception": false,
     "start_time": "2024-06-11T11:57:14.396510",
     "status": "completed"
    },
    "tags": []
   },
   "source": [
    "### Visualisez le dataset de test"
   ]
  },
  {
   "cell_type": "code",
   "execution_count": null,
   "id": "d68b3d83",
   "metadata": {
    "papermill": {
     "duration": 0.018614,
     "end_time": "2024-06-11T11:57:14.449785",
     "exception": false,
     "start_time": "2024-06-11T11:57:14.431171",
     "status": "completed"
    },
    "tags": []
   },
   "outputs": [],
   "source": []
  },
  {
   "cell_type": "markdown",
   "id": "da103fea",
   "metadata": {
    "papermill": {
     "duration": 0.018592,
     "end_time": "2024-06-11T11:57:14.487163",
     "exception": false,
     "start_time": "2024-06-11T11:57:14.468571",
     "status": "completed"
    },
    "tags": []
   },
   "source": [
    "### Dernières préparations des datasets"
   ]
  },
  {
   "cell_type": "code",
   "execution_count": 5,
   "id": "b6289421",
   "metadata": {
    "execution": {
     "iopub.execute_input": "2024-06-11T11:57:14.527456Z",
     "iopub.status.busy": "2024-06-11T11:57:14.527002Z",
     "iopub.status.idle": "2024-06-11T11:57:14.533884Z",
     "shell.execute_reply": "2024-06-11T11:57:14.532092Z"
    },
    "papermill": {
     "duration": 0.031796,
     "end_time": "2024-06-11T11:57:14.537290",
     "exception": false,
     "start_time": "2024-06-11T11:57:14.505494",
     "status": "completed"
    },
    "tags": []
   },
   "outputs": [],
   "source": [
    "# X_train = <votre_dataframe_entrainement>.drop(\"Survived\", axis=1)\n",
    "# Y_train = <votre_dataframe_entrainement>[\"Survived\"]\n",
    "# X_test  = <votre_dataframe_test>\n",
    "# X_train.shape, Y_train.shape, X_test.shape"
   ]
  },
  {
   "cell_type": "markdown",
   "id": "53a228a9",
   "metadata": {
    "papermill": {
     "duration": 0.018972,
     "end_time": "2024-06-11T11:57:14.575384",
     "exception": false,
     "start_time": "2024-06-11T11:57:14.556412",
     "status": "completed"
    },
    "tags": []
   },
   "source": [
    "### Modèles \n",
    "\n",
    "#### Voici une liste des modèles possibles:\n",
    " - Régression logistique\n",
    " - kNN voisins\n",
    " - Forêt Aléatoire\n",
    " - Classification naïve bayésienne\n",
    " - Perceptron\n",
    "\n",
    "#### **Instructions:**\n",
    "\n",
    "- Cherchez sur internet ces différents modèles, leurs avantages, leurs inconvénients, et comment les utiliser.\n",
    "\n",
    "- Trouvez la performance de chaque modèle\n",
    "\n",
    "- La librarie utilisée est appellée `sklearn`."
   ]
  },
  {
   "cell_type": "markdown",
   "id": "0df5816c",
   "metadata": {
    "papermill": {
     "duration": 0.017292,
     "end_time": "2024-06-11T11:57:14.610844",
     "exception": false,
     "start_time": "2024-06-11T11:57:14.593552",
     "status": "completed"
    },
    "tags": []
   },
   "source": [
    "### Régression logistique"
   ]
  },
  {
   "cell_type": "code",
   "execution_count": null,
   "id": "dc107cc9",
   "metadata": {
    "papermill": {
     "duration": 0.017243,
     "end_time": "2024-06-11T11:57:14.645019",
     "exception": false,
     "start_time": "2024-06-11T11:57:14.627776",
     "status": "completed"
    },
    "tags": []
   },
   "outputs": [],
   "source": []
  },
  {
   "cell_type": "markdown",
   "id": "1cfcd15c",
   "metadata": {
    "papermill": {
     "duration": 0.016944,
     "end_time": "2024-06-11T11:57:14.678951",
     "exception": false,
     "start_time": "2024-06-11T11:57:14.662007",
     "status": "completed"
    },
    "tags": []
   },
   "source": [
    "### kNN voisins"
   ]
  },
  {
   "cell_type": "code",
   "execution_count": null,
   "id": "963e2394",
   "metadata": {
    "papermill": {
     "duration": 0.016658,
     "end_time": "2024-06-11T11:57:14.714395",
     "exception": false,
     "start_time": "2024-06-11T11:57:14.697737",
     "status": "completed"
    },
    "tags": []
   },
   "outputs": [],
   "source": []
  },
  {
   "cell_type": "markdown",
   "id": "ed65f62b",
   "metadata": {
    "papermill": {
     "duration": 0.01763,
     "end_time": "2024-06-11T11:57:14.749026",
     "exception": false,
     "start_time": "2024-06-11T11:57:14.731396",
     "status": "completed"
    },
    "tags": []
   },
   "source": [
    "### Forêt Aléatoire"
   ]
  },
  {
   "cell_type": "code",
   "execution_count": null,
   "id": "3a77d909",
   "metadata": {
    "papermill": {
     "duration": 0.017662,
     "end_time": "2024-06-11T11:57:14.785264",
     "exception": false,
     "start_time": "2024-06-11T11:57:14.767602",
     "status": "completed"
    },
    "tags": []
   },
   "outputs": [],
   "source": []
  },
  {
   "cell_type": "markdown",
   "id": "747ad233",
   "metadata": {
    "papermill": {
     "duration": 0.017446,
     "end_time": "2024-06-11T11:57:14.820011",
     "exception": false,
     "start_time": "2024-06-11T11:57:14.802565",
     "status": "completed"
    },
    "tags": []
   },
   "source": [
    "### Classification naïve bayésienne"
   ]
  },
  {
   "cell_type": "code",
   "execution_count": null,
   "id": "02da3e29",
   "metadata": {
    "papermill": {
     "duration": 0.017512,
     "end_time": "2024-06-11T11:57:14.854968",
     "exception": false,
     "start_time": "2024-06-11T11:57:14.837456",
     "status": "completed"
    },
    "tags": []
   },
   "outputs": [],
   "source": []
  },
  {
   "cell_type": "markdown",
   "id": "c2da85d9",
   "metadata": {
    "papermill": {
     "duration": 0.016854,
     "end_time": "2024-06-11T11:57:14.889157",
     "exception": false,
     "start_time": "2024-06-11T11:57:14.872303",
     "status": "completed"
    },
    "tags": []
   },
   "source": [
    "### Perceptron"
   ]
  },
  {
   "cell_type": "code",
   "execution_count": null,
   "id": "a06db8eb",
   "metadata": {
    "papermill": {
     "duration": 0.016623,
     "end_time": "2024-06-11T11:57:14.922854",
     "exception": false,
     "start_time": "2024-06-11T11:57:14.906231",
     "status": "completed"
    },
    "tags": []
   },
   "outputs": [],
   "source": []
  },
  {
   "cell_type": "markdown",
   "id": "115b1bcf",
   "metadata": {
    "papermill": {
     "duration": 0.016799,
     "end_time": "2024-06-11T11:57:14.956860",
     "exception": false,
     "start_time": "2024-06-11T11:57:14.940061",
     "status": "completed"
    },
    "tags": []
   },
   "source": [
    "### Comparaison de la performance de chaque modèle\n",
    "\n",
    "#### **Instructions:**\n",
    "\n",
    "- Construisez un tableau des performances de chaque modèle"
   ]
  },
  {
   "cell_type": "markdown",
   "id": "9d2e4af3",
   "metadata": {
    "papermill": {
     "duration": 0.022954,
     "end_time": "2024-06-11T11:57:14.998018",
     "exception": false,
     "start_time": "2024-06-11T11:57:14.975064",
     "status": "completed"
    },
    "tags": []
   },
   "source": [
    "### Construisez un tableau des performances de chaque modèle"
   ]
  },
  {
   "cell_type": "code",
   "execution_count": null,
   "id": "2a0ec9f3",
   "metadata": {
    "papermill": {
     "duration": 0.026655,
     "end_time": "2024-06-11T11:57:15.054727",
     "exception": false,
     "start_time": "2024-06-11T11:57:15.028072",
     "status": "completed"
    },
    "tags": []
   },
   "outputs": [],
   "source": []
  },
  {
   "cell_type": "markdown",
   "id": "466a2c40",
   "metadata": {
    "papermill": {
     "duration": 0.020465,
     "end_time": "2024-06-11T11:57:15.095330",
     "exception": false,
     "start_time": "2024-06-11T11:57:15.074865",
     "status": "completed"
    },
    "tags": []
   },
   "source": [
    "### Fin du challenge"
   ]
  }
 ],
 "metadata": {
  "colab": {
   "authorship_tag": "ABX9TyNrbjJ0lfPuo8VwQ9P7DSGr",
   "include_colab_link": true,
   "provenance": []
  },
  "kaggle": {
   "accelerator": "none",
   "dataSources": [],
   "isGpuEnabled": false,
   "isInternetEnabled": false,
   "language": "python",
   "sourceType": "notebook"
  },
  "kernelspec": {
   "display_name": "Python 3 (ipykernel)",
   "language": "python",
   "name": "python3"
  },
  "language_info": {
   "codemirror_mode": {
    "name": "ipython",
    "version": 3
   },
   "file_extension": ".py",
   "mimetype": "text/x-python",
   "name": "python",
   "nbconvert_exporter": "python",
   "pygments_lexer": "ipython3",
   "version": "3.10.13"
  },
  "papermill": {
   "default_parameters": {},
   "duration": 11.745231,
   "end_time": "2024-06-11T11:57:15.945205",
   "environment_variables": {},
   "exception": null,
   "input_path": "__notebook__.ipynb",
   "output_path": "__notebook__.ipynb",
   "parameters": {},
   "start_time": "2024-06-11T11:57:04.199974",
   "version": "2.5.0"
  }
 },
 "nbformat": 4,
 "nbformat_minor": 5
}
