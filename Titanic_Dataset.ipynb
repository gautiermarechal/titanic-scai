{
 "cells": [
  {
   "cell_type": "markdown",
   "id": "bf4e940d",
   "metadata": {
    "id": "view-in-github",
    "papermill": {
     "duration": 0.011522,
     "end_time": "2024-06-11T12:50:53.651503",
     "exception": false,
     "start_time": "2024-06-11T12:50:53.639981",
     "status": "completed"
    },
    "tags": []
   },
   "source": [
    "<a href=\"https://colab.research.google.com/github/gautiermarechal/titanic-scai/blob/main/Titanic_Dataset.ipynb\" target=\"_parent\"><img src=\"https://colab.research.google.com/assets/colab-badge.svg\" alt=\"Open In Colab\"/></a>"
   ]
  },
  {
   "cell_type": "markdown",
   "id": "1bc3ce62",
   "metadata": {
    "papermill": {
     "duration": 0.010875,
     "end_time": "2024-06-11T12:50:53.673639",
     "exception": false,
     "start_time": "2024-06-11T12:50:53.662764",
     "status": "completed"
    },
    "tags": []
   },
   "source": [
    "# Challenge du titanic\n",
    "\n",
    "Bienvenue au challenge du Titanic dans l'école d'été IA de Sorbonne Université, et du Campus des Métiers et des Qualifications.\n",
    "\n",
    "Le dataset du titanic est un jeu de donnée très populaire afin de s'introduire à la science des données et à l'intelligence artificielle.\n",
    "\n",
    "## Objectif principal\n",
    "\n",
    "L'objectif de ce challenge est de prédire au mieux, basé sur un jeu de donnée existant, si un passager du Titanic a survécu ou non, dépendemment de paramètres spécifiques.\n",
    "\n",
    "Pour effectuer ce challenge, vous n'avez pas besoin de connaitre les mathématiques derrière le processus d'entrainement des modèles.\n",
    "\n",
    "Ici, l'objectif est de vous familiariser avec l'aspect le plus important de l'intelligence artificielle: les données. La plus grande partie du challenge consiste à manipuler les données pour les rendre les plus exploitables possible.\n",
    "\n",
    "## Les étapes:\n",
    "\n",
    "### 1. Définir le problème et les objectifs :\n",
    "\n",
    "- Comprendre clairement le problème que vous essayez de résoudre.\n",
    "- Définir les métriques de succès et les objectifs (par exemple, précision du modèle).\n",
    "\n",
    "### 2. Comprendre les données :\n",
    "\n",
    "- Analyser les données pour comprendre leur structure, qualité et caractéristiques.\n",
    "- Identifier les modèles, les valeurs aberrantes et les relations au sein des données.\n",
    "\n",
    "### 3. Prétraiter les données :\n",
    "\n",
    "- Nettoyer les données en traitant les valeurs manquantes, les valeurs aberrantes et les doublons.\n",
    "- Transformer et normaliser les données si nécessaire.\n",
    "- Mixer et regrouper les datas que vous pensez cohérentes ensembles.\n",
    "\n",
    "### 4. Sélectionner les modèles candidats :\n",
    "\n",
    "- Choisir un ensemble de modèles adaptés au problème.\n",
    "\n",
    "#### Voici une liste des modèles possibles:\n",
    " - Régression logistique\n",
    " - kNN voisins\n",
    " - Forêt Aléatoire\n",
    " - Classification naïve bayésienne\n",
    " - Perceptron\n",
    " \n",
    "- Essayer d'entrainer chaque modèle différent et de voir leurs performances differentes\n",
    "\n",
    "### 5. Comparer les performances des modèles :\n",
    "\n",
    "- Faire un tableau des différents modèles et de leurs performances\n",
    "- Entraîner et évaluer les modèles en utilisant des métriques de performance appropriées."
   ]
  },
  {
   "cell_type": "markdown",
   "id": "ccab39ae",
   "metadata": {
    "papermill": {
     "duration": 0.010807,
     "end_time": "2024-06-11T12:50:53.695458",
     "exception": false,
     "start_time": "2024-06-11T12:50:53.684651",
     "status": "completed"
    },
    "tags": []
   },
   "source": [
    "### 1. Définir le problème et les objectifs\n",
    "\n",
    "Quel est le but de notre analyse de donnée et de notre modèle?\n",
    "\n",
    "Nous voulons prédire si un passager va survivre ou non au crash du Titanic.\n",
    "\n",
    "Quelles sont donc les données importantes?\n",
    "\n",
    "### **Instructions:**  \n",
    "- Ouvrez les datasets `train.csv` et `test.csv`.\n",
    "- Listez toutes les colonnes différentes.\n",
    "- Quels sont pour vous, les données qui pourrait influer sur la chance de survie du passager?"
   ]
  },
  {
   "cell_type": "code",
   "execution_count": 1,
   "id": "be75725e",
   "metadata": {
    "execution": {
     "iopub.execute_input": "2024-06-11T12:50:53.720643Z",
     "iopub.status.busy": "2024-06-11T12:50:53.720176Z",
     "iopub.status.idle": "2024-06-11T12:50:56.689723Z",
     "shell.execute_reply": "2024-06-11T12:50:56.688291Z"
    },
    "papermill": {
     "duration": 2.985874,
     "end_time": "2024-06-11T12:50:56.692401",
     "exception": false,
     "start_time": "2024-06-11T12:50:53.706527",
     "status": "completed"
    },
    "tags": []
   },
   "outputs": [],
   "source": [
    "# Import de toutes les librairies nécessaires\n",
    "# data analysis and wrangling\n",
    "import pandas as pd\n",
    "import numpy as np\n",
    "import random as rnd\n",
    "\n",
    "# visualization\n",
    "import seaborn as sns\n",
    "import matplotlib.pyplot as plt\n",
    "%matplotlib inline\n",
    "\n",
    "# machine learning\n",
    "from sklearn.linear_model import LogisticRegression\n",
    "from sklearn.svm import SVC, LinearSVC\n",
    "from sklearn.ensemble import RandomForestClassifier\n",
    "from sklearn.neighbors import KNeighborsClassifier\n",
    "from sklearn.naive_bayes import GaussianNB\n",
    "from sklearn.linear_model import Perceptron\n",
    "from sklearn.linear_model import SGDClassifier\n",
    "from sklearn.tree import DecisionTreeClassifier"
   ]
  },
  {
   "cell_type": "markdown",
   "id": "b9b21062",
   "metadata": {
    "papermill": {
     "duration": 0.010778,
     "end_time": "2024-06-11T12:50:56.715562",
     "exception": false,
     "start_time": "2024-06-11T12:50:56.704784",
     "status": "completed"
    },
    "tags": []
   },
   "source": [
    "### Ouvrez les datasets train.csv et test.csv"
   ]
  },
  {
   "cell_type": "code",
   "execution_count": 2,
   "id": "cf9ab866",
   "metadata": {
    "execution": {
     "iopub.execute_input": "2024-06-11T12:50:56.740682Z",
     "iopub.status.busy": "2024-06-11T12:50:56.740149Z",
     "iopub.status.idle": "2024-06-11T12:50:56.745153Z",
     "shell.execute_reply": "2024-06-11T12:50:56.743964Z"
    },
    "papermill": {
     "duration": 0.020539,
     "end_time": "2024-06-11T12:50:56.747468",
     "exception": false,
     "start_time": "2024-06-11T12:50:56.726929",
     "status": "completed"
    },
    "tags": []
   },
   "outputs": [],
   "source": [
    "# Localisation du dossier des fichiers: /kaggle/input/titanic"
   ]
  },
  {
   "cell_type": "markdown",
   "id": "5672603b",
   "metadata": {
    "papermill": {
     "duration": 0.01153,
     "end_time": "2024-06-11T12:50:56.770469",
     "exception": false,
     "start_time": "2024-06-11T12:50:56.758939",
     "status": "completed"
    },
    "tags": []
   },
   "source": [
    "### Listez toutes les colonnes différentes"
   ]
  },
  {
   "cell_type": "code",
   "execution_count": null,
   "id": "1090ac6e",
   "metadata": {
    "papermill": {
     "duration": 0.010891,
     "end_time": "2024-06-11T12:50:56.792653",
     "exception": false,
     "start_time": "2024-06-11T12:50:56.781762",
     "status": "completed"
    },
    "tags": []
   },
   "outputs": [],
   "source": []
  },
  {
   "cell_type": "markdown",
   "id": "52f4819e",
   "metadata": {
    "papermill": {
     "duration": 0.01097,
     "end_time": "2024-06-11T12:50:56.815094",
     "exception": false,
     "start_time": "2024-06-11T12:50:56.804124",
     "status": "completed"
    },
    "tags": []
   },
   "source": [
    "### Quels sont pour vous, les données qui pourrait influer sur la chance de survie du passager?"
   ]
  },
  {
   "cell_type": "code",
   "execution_count": null,
   "id": "75153330",
   "metadata": {
    "papermill": {
     "duration": 0.011059,
     "end_time": "2024-06-11T12:50:56.837424",
     "exception": false,
     "start_time": "2024-06-11T12:50:56.826365",
     "status": "completed"
    },
    "tags": []
   },
   "outputs": [],
   "source": []
  },
  {
   "cell_type": "markdown",
   "id": "91ed43cb",
   "metadata": {
    "papermill": {
     "duration": 0.011361,
     "end_time": "2024-06-11T12:50:56.860658",
     "exception": false,
     "start_time": "2024-06-11T12:50:56.849297",
     "status": "completed"
    },
    "tags": []
   },
   "source": [
    "# 2. Comprendre la donnée:\n",
    "\n",
    "## Visualiser la donnée\n",
    "\n",
    "En sciences de données, il est important de toujours visualiser ce que l'on manipule.\n",
    "\n",
    "Nous allons en premier lieu, afficher la donnée que l'on a à disposition afin de mieux comprendre le problème posé.\n",
    "\n",
    "### Instructions\n",
    "\n",
    "- Récupérez les données entrainement et tests des deux datasets, dans deux variables différentes.\n",
    "- Affichez un tableau des 10 premiers éléments des deux datasets `train.csv` et `test.csv`\n"
   ]
  },
  {
   "cell_type": "markdown",
   "id": "2a3df61d",
   "metadata": {
    "papermill": {
     "duration": 0.011189,
     "end_time": "2024-06-11T12:50:56.883040",
     "exception": false,
     "start_time": "2024-06-11T12:50:56.871851",
     "status": "completed"
    },
    "tags": []
   },
   "source": [
    "### Récupérez les données entrainement et tests des deux datasets, dans deux variables différentes."
   ]
  },
  {
   "cell_type": "code",
   "execution_count": null,
   "id": "79efc4a5",
   "metadata": {
    "papermill": {
     "duration": 0.011254,
     "end_time": "2024-06-11T12:50:56.905708",
     "exception": false,
     "start_time": "2024-06-11T12:50:56.894454",
     "status": "completed"
    },
    "tags": []
   },
   "outputs": [],
   "source": []
  },
  {
   "cell_type": "markdown",
   "id": "4dea12cc",
   "metadata": {
    "papermill": {
     "duration": 0.01113,
     "end_time": "2024-06-11T12:50:56.928681",
     "exception": false,
     "start_time": "2024-06-11T12:50:56.917551",
     "status": "completed"
    },
    "tags": []
   },
   "source": [
    "### Affichez un tableau des 10 premiers éléments des deux datasets `train.csv` et `test.csv`"
   ]
  },
  {
   "cell_type": "code",
   "execution_count": null,
   "id": "83ec033a",
   "metadata": {
    "papermill": {
     "duration": 0.011333,
     "end_time": "2024-06-11T12:50:56.951339",
     "exception": false,
     "start_time": "2024-06-11T12:50:56.940006",
     "status": "completed"
    },
    "tags": []
   },
   "outputs": [],
   "source": []
  },
  {
   "cell_type": "markdown",
   "id": "f55b803c",
   "metadata": {
    "papermill": {
     "duration": 0.011412,
     "end_time": "2024-06-11T12:50:56.973998",
     "exception": false,
     "start_time": "2024-06-11T12:50:56.962586",
     "status": "completed"
    },
    "tags": []
   },
   "source": [
    "## Evaluer les types de données présents\n",
    "\n",
    "### **Instructions**\n",
    "\n",
    "- Identifiez quelle colonne est catégorique, et quelle colonne est un nombre. \n",
    "- Par exemple: `Sex` est catégorique, `Age` est numérique\n",
    "- Utilisez la fonction `info()` et `describe()` de pandas, afin d'avoir plus de précisions sur la donnée."
   ]
  },
  {
   "cell_type": "markdown",
   "id": "a7df0025",
   "metadata": {
    "papermill": {
     "duration": 0.011043,
     "end_time": "2024-06-11T12:50:56.996330",
     "exception": false,
     "start_time": "2024-06-11T12:50:56.985287",
     "status": "completed"
    },
    "tags": []
   },
   "source": [
    "### Identifiez quelle colonne est catégorique, et quelle colonne est un nombre. "
   ]
  },
  {
   "cell_type": "code",
   "execution_count": null,
   "id": "53986f81",
   "metadata": {
    "papermill": {
     "duration": 0.011115,
     "end_time": "2024-06-11T12:50:57.019356",
     "exception": false,
     "start_time": "2024-06-11T12:50:57.008241",
     "status": "completed"
    },
    "tags": []
   },
   "outputs": [],
   "source": []
  },
  {
   "cell_type": "markdown",
   "id": "98cb10cc",
   "metadata": {
    "papermill": {
     "duration": 0.01095,
     "end_time": "2024-06-11T12:50:57.041610",
     "exception": false,
     "start_time": "2024-06-11T12:50:57.030660",
     "status": "completed"
    },
    "tags": []
   },
   "source": [
    "### Utilisez la fonction `info()` et `describe()` de pandas, afin d'avoir plus de précisions sur la donnée."
   ]
  },
  {
   "cell_type": "code",
   "execution_count": null,
   "id": "cc5e726d",
   "metadata": {
    "papermill": {
     "duration": 0.011831,
     "end_time": "2024-06-11T12:50:57.064699",
     "exception": false,
     "start_time": "2024-06-11T12:50:57.052868",
     "status": "completed"
    },
    "tags": []
   },
   "outputs": [],
   "source": []
  },
  {
   "cell_type": "markdown",
   "id": "2fe3c703",
   "metadata": {
    "papermill": {
     "duration": 0.010948,
     "end_time": "2024-06-11T12:50:57.087136",
     "exception": false,
     "start_time": "2024-06-11T12:50:57.076188",
     "status": "completed"
    },
    "tags": []
   },
   "source": [
    "## Emettez des hypothèses face à cette donnée\n",
    "\n",
    "Il est temps de regarder certains corrélations possibles.\n",
    "\n",
    "### **Instructions:**\n",
    "\n",
    "- Identifiez les colonnes qui ont l'air corrélées à la survie ou non d'un passager\n",
    "- Quelle caractéristique a l'air d'augmenter ou de diminuer la chance de survie d'un passager?\n",
    "- Choisissez les colonnes que vous pensez être les plus utiles.\n",
    "- Confrontez ces colonnes avec la survie d'un passager. Regardez \"Faire pivoter de la donnée\" sur internet."
   ]
  },
  {
   "cell_type": "markdown",
   "id": "b7e4ec1a",
   "metadata": {
    "papermill": {
     "duration": 0.011227,
     "end_time": "2024-06-11T12:50:57.109680",
     "exception": false,
     "start_time": "2024-06-11T12:50:57.098453",
     "status": "completed"
    },
    "tags": []
   },
   "source": [
    "### Identifiez les colonnes qui ont l'air corrélées à la survie ou non d'un passager"
   ]
  },
  {
   "cell_type": "code",
   "execution_count": null,
   "id": "98003f4a",
   "metadata": {
    "papermill": {
     "duration": 0.012605,
     "end_time": "2024-06-11T12:50:57.201572",
     "exception": false,
     "start_time": "2024-06-11T12:50:57.188967",
     "status": "completed"
    },
    "tags": []
   },
   "outputs": [],
   "source": []
  },
  {
   "cell_type": "markdown",
   "id": "17602467",
   "metadata": {
    "papermill": {
     "duration": 0.011079,
     "end_time": "2024-06-11T12:50:57.224775",
     "exception": false,
     "start_time": "2024-06-11T12:50:57.213696",
     "status": "completed"
    },
    "tags": []
   },
   "source": [
    "### Quelle caractéristique a l'air d'augmenter ou de diminuer la chance de survie d'un passager?"
   ]
  },
  {
   "cell_type": "code",
   "execution_count": null,
   "id": "07188586",
   "metadata": {
    "papermill": {
     "duration": 0.011142,
     "end_time": "2024-06-11T12:50:57.247866",
     "exception": false,
     "start_time": "2024-06-11T12:50:57.236724",
     "status": "completed"
    },
    "tags": []
   },
   "outputs": [],
   "source": []
  },
  {
   "cell_type": "markdown",
   "id": "9deb84ab",
   "metadata": {
    "papermill": {
     "duration": 0.011131,
     "end_time": "2024-06-11T12:50:57.270329",
     "exception": false,
     "start_time": "2024-06-11T12:50:57.259198",
     "status": "completed"
    },
    "tags": []
   },
   "source": [
    "### Choisissez les colonnes que vous pensez être les plus utiles."
   ]
  },
  {
   "cell_type": "markdown",
   "id": "8136c2e6",
   "metadata": {
    "papermill": {
     "duration": 0.011192,
     "end_time": "2024-06-11T12:50:57.292707",
     "exception": false,
     "start_time": "2024-06-11T12:50:57.281515",
     "status": "completed"
    },
    "tags": []
   },
   "source": []
  },
  {
   "cell_type": "markdown",
   "id": "f94d24a8",
   "metadata": {
    "papermill": {
     "duration": 0.011046,
     "end_time": "2024-06-11T12:50:57.315605",
     "exception": false,
     "start_time": "2024-06-11T12:50:57.304559",
     "status": "completed"
    },
    "tags": []
   },
   "source": [
    "### Confrontez ces colonnes avec la survie d'un passager. Regardez \"Faire pivoter de la donnée\" sur internet.\n",
    "\n",
    "Voici une commande pour pivoter la donnée. Remplacer <nom_colonne> par la colonne que vous voulez"
   ]
  },
  {
   "cell_type": "code",
   "execution_count": 3,
   "id": "20eefe73",
   "metadata": {
    "execution": {
     "iopub.execute_input": "2024-06-11T12:50:57.339930Z",
     "iopub.status.busy": "2024-06-11T12:50:57.339497Z",
     "iopub.status.idle": "2024-06-11T12:50:57.344161Z",
     "shell.execute_reply": "2024-06-11T12:50:57.343041Z"
    },
    "papermill": {
     "duration": 0.019565,
     "end_time": "2024-06-11T12:50:57.346518",
     "exception": false,
     "start_time": "2024-06-11T12:50:57.326953",
     "status": "completed"
    },
    "tags": []
   },
   "outputs": [],
   "source": [
    "# dataframe_donnees_entrainement[[\"<nom_colonne>\", 'Survived']].groupby(['Pclass'], as_index=False).mean().sort_values(by='Survived', ascending=False)"
   ]
  },
  {
   "cell_type": "markdown",
   "id": "521a9fcf",
   "metadata": {
    "papermill": {
     "duration": 0.010885,
     "end_time": "2024-06-11T12:50:57.368831",
     "exception": false,
     "start_time": "2024-06-11T12:50:57.357946",
     "status": "completed"
    },
    "tags": []
   },
   "source": [
    "Qu'a t'on appris avec les tableaux au dessus? Quelle donnée a l'air d'être importante?\n",
    "\n",
    "Il faut que vous émettiez des hypothèses sur quelle donnée peut être importante.\n",
    "\n",
    "Pensez vous que le prix du billet est important dans les chances de survie?\n",
    "\n",
    "## Trouver les corrélations\n",
    "\n",
    "Quelle est la meilleure manière de trouver ces corrélations? Visualiser!\n",
    "Nous allons produire des graphes pour nous aider à comprendre les liens de nos données que nous avons confronté précedemment.\n",
    "\n",
    "1. Corréler les valeurs numériques\n",
    "2. Corréler les valeurs catégoriques\n",
    "\n",
    "### **Instructions:**\n",
    "\n",
    "- Emettez au moins 2 hypothèses sur une corrélation entre la colonne et la survie.\n",
    "- Distinguez les valeurs numériques des valeurs catégoriques\n",
    "- Pour chaque corrélation, produisez un graphe afin de visualiser cette corrélation et la valider ou non\n",
    "- Ecrivez vos observations. Vous utiliserez ces observations pour conserver les colonnes que vous avez identifié comme importante."
   ]
  },
  {
   "cell_type": "markdown",
   "id": "ab1f5e64",
   "metadata": {
    "papermill": {
     "duration": 0.011116,
     "end_time": "2024-06-11T12:50:57.391344",
     "exception": false,
     "start_time": "2024-06-11T12:50:57.380228",
     "status": "completed"
    },
    "tags": []
   },
   "source": [
    "### Emettez au moins 2 hypothèses sur une corrélation entre la colonne et la survie."
   ]
  },
  {
   "cell_type": "markdown",
   "id": "e2ee7ef4",
   "metadata": {
    "papermill": {
     "duration": 0.010988,
     "end_time": "2024-06-11T12:50:57.413699",
     "exception": false,
     "start_time": "2024-06-11T12:50:57.402711",
     "status": "completed"
    },
    "tags": []
   },
   "source": []
  },
  {
   "cell_type": "markdown",
   "id": "e49d3ce2",
   "metadata": {
    "papermill": {
     "duration": 0.011053,
     "end_time": "2024-06-11T12:50:57.436047",
     "exception": false,
     "start_time": "2024-06-11T12:50:57.424994",
     "status": "completed"
    },
    "tags": []
   },
   "source": [
    "### Distinguez les valeurs numériques des valeurs catégoriques"
   ]
  },
  {
   "cell_type": "markdown",
   "id": "9b6ceeea",
   "metadata": {
    "papermill": {
     "duration": 0.011001,
     "end_time": "2024-06-11T12:50:57.458252",
     "exception": false,
     "start_time": "2024-06-11T12:50:57.447251",
     "status": "completed"
    },
    "tags": []
   },
   "source": []
  },
  {
   "cell_type": "markdown",
   "id": "b6dbb26f",
   "metadata": {
    "papermill": {
     "duration": 0.011701,
     "end_time": "2024-06-11T12:50:57.482179",
     "exception": false,
     "start_time": "2024-06-11T12:50:57.470478",
     "status": "completed"
    },
    "tags": []
   },
   "source": [
    "### Pour chaque corrélation, produisez un graphe afin de visualiser cette corrélation et la valider ou non\n",
    "\n",
    "Produisez un ou des histogrammes de votre colonne contre la colonne `Survived`"
   ]
  },
  {
   "cell_type": "code",
   "execution_count": null,
   "id": "325bf6af",
   "metadata": {
    "papermill": {
     "duration": 0.011055,
     "end_time": "2024-06-11T12:50:57.504529",
     "exception": false,
     "start_time": "2024-06-11T12:50:57.493474",
     "status": "completed"
    },
    "tags": []
   },
   "outputs": [],
   "source": []
  },
  {
   "cell_type": "markdown",
   "id": "cabf5f85",
   "metadata": {
    "papermill": {
     "duration": 0.010961,
     "end_time": "2024-06-11T12:50:57.526809",
     "exception": false,
     "start_time": "2024-06-11T12:50:57.515848",
     "status": "completed"
    },
    "tags": []
   },
   "source": [
    "Produisez une suite d'histogrammes en croisant des données numériques et des données catégoriques"
   ]
  },
  {
   "cell_type": "code",
   "execution_count": 4,
   "id": "93a20d68",
   "metadata": {
    "execution": {
     "iopub.execute_input": "2024-06-11T12:50:57.551420Z",
     "iopub.status.busy": "2024-06-11T12:50:57.551015Z",
     "iopub.status.idle": "2024-06-11T12:50:57.555984Z",
     "shell.execute_reply": "2024-06-11T12:50:57.554851Z"
    },
    "papermill": {
     "duration": 0.020312,
     "end_time": "2024-06-11T12:50:57.558599",
     "exception": false,
     "start_time": "2024-06-11T12:50:57.538287",
     "status": "completed"
    },
    "tags": []
   },
   "outputs": [],
   "source": [
    "# grid = sns.FacetGrid('<votre_dataset_entrainement>', col='Survived', row='<colonne_1>')\n",
    "# grid.map(plt.hist, '<colonne_2>', alpha=.5, bins=20)\n",
    "# grid.add_legend();"
   ]
  },
  {
   "cell_type": "markdown",
   "id": "2c6bb869",
   "metadata": {
    "papermill": {
     "duration": 0.011472,
     "end_time": "2024-06-11T12:50:57.582680",
     "exception": false,
     "start_time": "2024-06-11T12:50:57.571208",
     "status": "completed"
    },
    "tags": []
   },
   "source": [
    "Produisez une suite de graphe de point afin en croisant des données numériques et des données catégoriques"
   ]
  },
  {
   "cell_type": "code",
   "execution_count": 5,
   "id": "1869fff5",
   "metadata": {
    "execution": {
     "iopub.execute_input": "2024-06-11T12:50:57.607381Z",
     "iopub.status.busy": "2024-06-11T12:50:57.606994Z",
     "iopub.status.idle": "2024-06-11T12:50:57.612014Z",
     "shell.execute_reply": "2024-06-11T12:50:57.610602Z"
    },
    "papermill": {
     "duration": 0.020164,
     "end_time": "2024-06-11T12:50:57.614396",
     "exception": false,
     "start_time": "2024-06-11T12:50:57.594232",
     "status": "completed"
    },
    "tags": []
   },
   "outputs": [],
   "source": [
    "# grid = sns.FacetGrid('<votre_dataset_entrainement>', row='<colonne_1>')\n",
    "# grid.map(sns.pointplot, '<colonne_2>', 'Survived', '<colonne_3>', palette='deep')\n",
    "# grid.add_legend()"
   ]
  },
  {
   "cell_type": "markdown",
   "id": "b2a73afe",
   "metadata": {
    "papermill": {
     "duration": 0.01115,
     "end_time": "2024-06-11T12:50:57.637547",
     "exception": false,
     "start_time": "2024-06-11T12:50:57.626397",
     "status": "completed"
    },
    "tags": []
   },
   "source": [
    "### Ecrivez vos observations. Vous utiliserez ces observations pour conserver les colonnes que vous avez identifié comme importante."
   ]
  },
  {
   "cell_type": "markdown",
   "id": "6c720093",
   "metadata": {
    "papermill": {
     "duration": 0.011434,
     "end_time": "2024-06-11T12:50:57.660503",
     "exception": false,
     "start_time": "2024-06-11T12:50:57.649069",
     "status": "completed"
    },
    "tags": []
   },
   "source": []
  },
  {
   "cell_type": "markdown",
   "id": "8c1d7927",
   "metadata": {
    "papermill": {
     "duration": 0.011191,
     "end_time": "2024-06-11T12:50:57.683269",
     "exception": false,
     "start_time": "2024-06-11T12:50:57.672078",
     "status": "completed"
    },
    "tags": []
   },
   "source": [
    "### Conclusion de l'analyse de donnée\n",
    "\n",
    "Listez les colonnes que vous confirmez comme importantes\n",
    "\n",
    "- ...\n",
    "- ..."
   ]
  },
  {
   "cell_type": "markdown",
   "id": "dd4b4095",
   "metadata": {
    "papermill": {
     "duration": 0.011105,
     "end_time": "2024-06-11T12:50:57.705832",
     "exception": false,
     "start_time": "2024-06-11T12:50:57.694727",
     "status": "completed"
    },
    "tags": []
   },
   "source": [
    "# 3. Prétraiter les données :\n",
    "\n",
    "Les actions possibles:\n",
    "\n",
    "1. Enlever la donnée inutile\n",
    "2. Créer des nouvelles données. Exemple: Extraire les titres des passagers \n",
    "3. Compléter de la donnée incomplète\n",
    "\n",
    "L'objectif à la fin de cette étape est d'avoir un tableau avec les données nécessaire uniquement, sous une forme numérique.\n",
    "\n",
    "Un modèle IA comprend et manipule des nombres uniquement. Il est donc important de manipuler des données numériques uniquement.\n",
    "\n",
    "### **Instructions:**\n",
    "\n",
    "- Trouvez et supprimez les colonnes que vous n'avez pas identifié comme importante\n",
    "- Convertissez les données catégoriques en données numériques. Ex: Le port d'embarcation S peut être lié à la value 1, le E à la valeur 2 etc..."
   ]
  },
  {
   "cell_type": "markdown",
   "id": "fdc7fd50",
   "metadata": {
    "papermill": {
     "duration": 0.011323,
     "end_time": "2024-06-11T12:50:57.728491",
     "exception": false,
     "start_time": "2024-06-11T12:50:57.717168",
     "status": "completed"
    },
    "tags": []
   },
   "source": [
    "### Trouvez et supprimez les colonnes que vous n'avez pas identifié comme importante"
   ]
  },
  {
   "cell_type": "code",
   "execution_count": null,
   "id": "f73e6829",
   "metadata": {
    "papermill": {
     "duration": 0.011199,
     "end_time": "2024-06-11T12:50:57.751323",
     "exception": false,
     "start_time": "2024-06-11T12:50:57.740124",
     "status": "completed"
    },
    "tags": []
   },
   "outputs": [],
   "source": []
  },
  {
   "cell_type": "markdown",
   "id": "52d6102f",
   "metadata": {
    "papermill": {
     "duration": 0.011219,
     "end_time": "2024-06-11T12:50:57.774169",
     "exception": false,
     "start_time": "2024-06-11T12:50:57.762950",
     "status": "completed"
    },
    "tags": []
   },
   "source": [
    "### Convertissez les données catégoriques en données numériques. Ex: Le port d'embarcation S peut être lié à la value 1, le E à la valeur 2 etc..."
   ]
  },
  {
   "cell_type": "code",
   "execution_count": null,
   "id": "80f4380b",
   "metadata": {
    "papermill": {
     "duration": 0.011314,
     "end_time": "2024-06-11T12:50:57.797282",
     "exception": false,
     "start_time": "2024-06-11T12:50:57.785968",
     "status": "completed"
    },
    "tags": []
   },
   "outputs": [],
   "source": []
  },
  {
   "cell_type": "markdown",
   "id": "e997a6e7",
   "metadata": {
    "papermill": {
     "duration": 0.011381,
     "end_time": "2024-06-11T12:50:57.820646",
     "exception": false,
     "start_time": "2024-06-11T12:50:57.809265",
     "status": "completed"
    },
    "tags": []
   },
   "source": [
    "### Combinez les colonnes que vous pensez regroupables."
   ]
  },
  {
   "cell_type": "code",
   "execution_count": null,
   "id": "913155ce",
   "metadata": {
    "papermill": {
     "duration": 0.01131,
     "end_time": "2024-06-11T12:50:57.843530",
     "exception": false,
     "start_time": "2024-06-11T12:50:57.832220",
     "status": "completed"
    },
    "tags": []
   },
   "outputs": [],
   "source": []
  },
  {
   "cell_type": "markdown",
   "id": "619337c6",
   "metadata": {
    "papermill": {
     "duration": 0.01132,
     "end_time": "2024-06-11T12:50:57.866656",
     "exception": false,
     "start_time": "2024-06-11T12:50:57.855336",
     "status": "completed"
    },
    "tags": []
   },
   "source": [
    "## 4. Sélectionner les modèles candidats :\n",
    "\n",
    "Maintenant, les datasets d'entrainement et de tests sont prêts à être utilisés.\n",
    "\n",
    "Le dataset d'entrainement sera utilisé pour entrainer notre modèle et notre dataset test pour tester la performance de notre modèle.\n",
    "\n",
    "### **Instructions:**\n",
    "\n",
    "- Visualisez le dataset d'entrainement\n",
    "- Visualisez le dataset de test"
   ]
  },
  {
   "cell_type": "markdown",
   "id": "86223e01",
   "metadata": {
    "papermill": {
     "duration": 0.011424,
     "end_time": "2024-06-11T12:50:57.889858",
     "exception": false,
     "start_time": "2024-06-11T12:50:57.878434",
     "status": "completed"
    },
    "tags": []
   },
   "source": [
    "### Visualisez le dataset d'entrainement"
   ]
  },
  {
   "cell_type": "code",
   "execution_count": null,
   "id": "621ccbe6",
   "metadata": {
    "papermill": {
     "duration": 0.011801,
     "end_time": "2024-06-11T12:50:57.913745",
     "exception": false,
     "start_time": "2024-06-11T12:50:57.901944",
     "status": "completed"
    },
    "tags": []
   },
   "outputs": [],
   "source": []
  },
  {
   "cell_type": "markdown",
   "id": "db644c55",
   "metadata": {
    "papermill": {
     "duration": 0.011293,
     "end_time": "2024-06-11T12:50:57.937521",
     "exception": false,
     "start_time": "2024-06-11T12:50:57.926228",
     "status": "completed"
    },
    "tags": []
   },
   "source": [
    "### Visualisez le dataset de test"
   ]
  },
  {
   "cell_type": "code",
   "execution_count": null,
   "id": "37d6cfad",
   "metadata": {
    "papermill": {
     "duration": 0.011258,
     "end_time": "2024-06-11T12:50:57.960326",
     "exception": false,
     "start_time": "2024-06-11T12:50:57.949068",
     "status": "completed"
    },
    "tags": []
   },
   "outputs": [],
   "source": []
  },
  {
   "cell_type": "markdown",
   "id": "65cb0321",
   "metadata": {
    "papermill": {
     "duration": 0.011649,
     "end_time": "2024-06-11T12:50:57.983569",
     "exception": false,
     "start_time": "2024-06-11T12:50:57.971920",
     "status": "completed"
    },
    "tags": []
   },
   "source": [
    "### Dernières préparations des datasets"
   ]
  },
  {
   "cell_type": "code",
   "execution_count": 6,
   "id": "c88e4c0e",
   "metadata": {
    "execution": {
     "iopub.execute_input": "2024-06-11T12:50:58.008251Z",
     "iopub.status.busy": "2024-06-11T12:50:58.007821Z",
     "iopub.status.idle": "2024-06-11T12:50:58.012750Z",
     "shell.execute_reply": "2024-06-11T12:50:58.011604Z"
    },
    "papermill": {
     "duration": 0.020167,
     "end_time": "2024-06-11T12:50:58.015158",
     "exception": false,
     "start_time": "2024-06-11T12:50:57.994991",
     "status": "completed"
    },
    "tags": []
   },
   "outputs": [],
   "source": [
    "# X_train = <votre_dataframe_entrainement>.drop(\"Survived\", axis=1)\n",
    "# Y_train = <votre_dataframe_entrainement>[\"Survived\"]\n",
    "# X_test  = <votre_dataframe_test>\n",
    "# X_train.shape, Y_train.shape, X_test.shape"
   ]
  },
  {
   "cell_type": "markdown",
   "id": "a7272162",
   "metadata": {
    "papermill": {
     "duration": 0.011281,
     "end_time": "2024-06-11T12:50:58.038849",
     "exception": false,
     "start_time": "2024-06-11T12:50:58.027568",
     "status": "completed"
    },
    "tags": []
   },
   "source": [
    "### Modèles \n",
    "\n",
    "#### Voici une liste des modèles possibles:\n",
    " - Régression logistique\n",
    " - kNN voisins\n",
    " - Forêt Aléatoire\n",
    " - Classification naïve bayésienne\n",
    " - Perceptron\n",
    "\n",
    "#### **Instructions:**\n",
    "\n",
    "- Cherchez sur internet ces différents modèles, leurs avantages, leurs inconvénients, et comment les utiliser.\n",
    "\n",
    "- Trouvez la performance de chaque modèle\n",
    "\n",
    "- La librarie utilisée est appellée `sklearn`."
   ]
  },
  {
   "cell_type": "markdown",
   "id": "edd9ac99",
   "metadata": {
    "papermill": {
     "duration": 0.011773,
     "end_time": "2024-06-11T12:50:58.062242",
     "exception": false,
     "start_time": "2024-06-11T12:50:58.050469",
     "status": "completed"
    },
    "tags": []
   },
   "source": [
    "### Régression logistique"
   ]
  },
  {
   "cell_type": "code",
   "execution_count": null,
   "id": "60cd1d90",
   "metadata": {
    "papermill": {
     "duration": 0.011761,
     "end_time": "2024-06-11T12:50:58.086389",
     "exception": false,
     "start_time": "2024-06-11T12:50:58.074628",
     "status": "completed"
    },
    "tags": []
   },
   "outputs": [],
   "source": []
  },
  {
   "cell_type": "markdown",
   "id": "62eb33cf",
   "metadata": {
    "papermill": {
     "duration": 0.01116,
     "end_time": "2024-06-11T12:50:58.109213",
     "exception": false,
     "start_time": "2024-06-11T12:50:58.098053",
     "status": "completed"
    },
    "tags": []
   },
   "source": [
    "### kNN voisins"
   ]
  },
  {
   "cell_type": "code",
   "execution_count": null,
   "id": "60ef1b85",
   "metadata": {
    "papermill": {
     "duration": 0.011384,
     "end_time": "2024-06-11T12:50:58.132191",
     "exception": false,
     "start_time": "2024-06-11T12:50:58.120807",
     "status": "completed"
    },
    "tags": []
   },
   "outputs": [],
   "source": []
  },
  {
   "cell_type": "markdown",
   "id": "13edc387",
   "metadata": {
    "papermill": {
     "duration": 0.012322,
     "end_time": "2024-06-11T12:50:58.155923",
     "exception": false,
     "start_time": "2024-06-11T12:50:58.143601",
     "status": "completed"
    },
    "tags": []
   },
   "source": [
    "### Forêt Aléatoire"
   ]
  },
  {
   "cell_type": "code",
   "execution_count": null,
   "id": "77042748",
   "metadata": {
    "papermill": {
     "duration": 0.013461,
     "end_time": "2024-06-11T12:50:58.184462",
     "exception": false,
     "start_time": "2024-06-11T12:50:58.171001",
     "status": "completed"
    },
    "tags": []
   },
   "outputs": [],
   "source": []
  },
  {
   "cell_type": "markdown",
   "id": "d1726b5a",
   "metadata": {
    "papermill": {
     "duration": 0.014287,
     "end_time": "2024-06-11T12:50:58.212997",
     "exception": false,
     "start_time": "2024-06-11T12:50:58.198710",
     "status": "completed"
    },
    "tags": []
   },
   "source": [
    "### Classification naïve bayésienne"
   ]
  },
  {
   "cell_type": "code",
   "execution_count": null,
   "id": "a01db952",
   "metadata": {
    "papermill": {
     "duration": 0.011927,
     "end_time": "2024-06-11T12:50:58.238683",
     "exception": false,
     "start_time": "2024-06-11T12:50:58.226756",
     "status": "completed"
    },
    "tags": []
   },
   "outputs": [],
   "source": []
  },
  {
   "cell_type": "markdown",
   "id": "44401263",
   "metadata": {
    "papermill": {
     "duration": 0.015818,
     "end_time": "2024-06-11T12:50:58.266219",
     "exception": false,
     "start_time": "2024-06-11T12:50:58.250401",
     "status": "completed"
    },
    "tags": []
   },
   "source": [
    "### Perceptron"
   ]
  },
  {
   "cell_type": "code",
   "execution_count": null,
   "id": "8dcc5f0c",
   "metadata": {
    "papermill": {
     "duration": 0.016704,
     "end_time": "2024-06-11T12:50:58.296733",
     "exception": false,
     "start_time": "2024-06-11T12:50:58.280029",
     "status": "completed"
    },
    "tags": []
   },
   "outputs": [],
   "source": []
  },
  {
   "cell_type": "markdown",
   "id": "3ad215ff",
   "metadata": {
    "papermill": {
     "duration": 0.014608,
     "end_time": "2024-06-11T12:50:58.327236",
     "exception": false,
     "start_time": "2024-06-11T12:50:58.312628",
     "status": "completed"
    },
    "tags": []
   },
   "source": [
    "### Comparaison de la performance de chaque modèle\n",
    "\n",
    "#### **Instructions:**\n",
    "\n",
    "- Construisez un tableau des performances de chaque modèle"
   ]
  },
  {
   "cell_type": "markdown",
   "id": "b4a6bc3d",
   "metadata": {
    "papermill": {
     "duration": 0.011366,
     "end_time": "2024-06-11T12:50:58.351066",
     "exception": false,
     "start_time": "2024-06-11T12:50:58.339700",
     "status": "completed"
    },
    "tags": []
   },
   "source": [
    "### Construisez un tableau des performances de chaque modèle"
   ]
  },
  {
   "cell_type": "code",
   "execution_count": null,
   "id": "49f46407",
   "metadata": {
    "papermill": {
     "duration": 0.011292,
     "end_time": "2024-06-11T12:50:58.374660",
     "exception": false,
     "start_time": "2024-06-11T12:50:58.363368",
     "status": "completed"
    },
    "tags": []
   },
   "outputs": [],
   "source": []
  },
  {
   "cell_type": "markdown",
   "id": "f40b6223",
   "metadata": {
    "papermill": {
     "duration": 0.011233,
     "end_time": "2024-06-11T12:50:58.397301",
     "exception": false,
     "start_time": "2024-06-11T12:50:58.386068",
     "status": "completed"
    },
    "tags": []
   },
   "source": [
    "### Fin du challenge"
   ]
  }
 ],
 "metadata": {
  "colab": {
   "authorship_tag": "ABX9TyNrbjJ0lfPuo8VwQ9P7DSGr",
   "include_colab_link": true,
   "provenance": []
  },
  "kaggle": {
   "accelerator": "none",
   "dataSources": [
    {
     "databundleVersionId": 26502,
     "sourceId": 3136,
     "sourceType": "competition"
    }
   ],
   "isGpuEnabled": false,
   "isInternetEnabled": false,
   "language": "python",
   "sourceType": "notebook"
  },
  "kernelspec": {
   "display_name": "Python 3 (ipykernel)",
   "language": "python",
   "name": "python3"
  },
  "language_info": {
   "codemirror_mode": {
    "name": "ipython",
    "version": 3
   },
   "file_extension": ".py",
   "mimetype": "text/x-python",
   "name": "python",
   "nbconvert_exporter": "python",
   "pygments_lexer": "ipython3",
   "version": "3.10.13"
  },
  "papermill": {
   "default_parameters": {},
   "duration": 8.789635,
   "end_time": "2024-06-11T12:50:59.030272",
   "environment_variables": {},
   "exception": null,
   "input_path": "__notebook__.ipynb",
   "output_path": "__notebook__.ipynb",
   "parameters": {},
   "start_time": "2024-06-11T12:50:50.240637",
   "version": "2.5.0"
  }
 },
 "nbformat": 4,
 "nbformat_minor": 5
}
